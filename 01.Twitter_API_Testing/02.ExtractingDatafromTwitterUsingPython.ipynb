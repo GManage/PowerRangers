{
 "cells": [
  {
   "cell_type": "markdown",
   "id": "39ba7efe",
   "metadata": {},
   "source": [
    "##### https://towardsdatascience.com/extracting-data-from-twitter-using-python-5ab67bff553a"
   ]
  },
  {
   "cell_type": "code",
   "execution_count": 1,
   "id": "daf1a3a5",
   "metadata": {},
   "outputs": [],
   "source": [
    "#import files and give access to tokens and keys\n",
    "\n",
    "import tweepy,json\n",
    "import config\n",
    "#import archive_tweepy\n",
    "\n",
    "\n",
    "#consumer_key = config.consumer_key\n",
    "#consumer_secret = config.consumer_secret\n",
    "#access_token = config.access_token\n",
    "#access_token_secret = config.access_token_secret\n",
    "#authentication = [consumer_key,consumer_secret,access_token,access_token_secret ]\n",
    "\n",
    "#auth = tweepy.OAuthHandler(consumer_key,consumer_secret)\n",
    "#auth.set_access_token(access_token,access_token_secret)"
   ]
  },
  {
   "cell_type": "code",
   "execution_count": 2,
   "id": "f87a5459",
   "metadata": {},
   "outputs": [],
   "source": [
    "tweet_list = []\n",
    "\n",
    "class MyStream(tweepy.Stream):\n",
    "\n",
    "\n",
    "    def __init__(self,api=None):\n",
    "        \n",
    "        #super(MyStream,self).__init__()\n",
    "        #super().__init__(consumer_key,consumer_secret,access_token,access_token_secret)\n",
    "        consumer_key = config.consumer_key\n",
    "        consumer_secret = config.consumer_secret\n",
    "        access_token = config.access_token\n",
    "        access_token_secret = config.access_token_secret\n",
    "        \n",
    "        super().__init__(consumer_key,consumer_secret,access_token,access_token_secret)\n",
    "\n",
    "        self.num_tweets = 0\n",
    "        \n",
    "        #bach\n",
    "        self.tweet_list = []\n",
    "\n",
    "        self.file=open(\"tweet.txt\",\"w\")\n",
    "        #self.jfile = open(\"tweet.json\",\"a\")\n",
    "        \n",
    "\n",
    "        \n",
    "        \n",
    "    def on_status(self,status):\n",
    "        \n",
    "        #if self.num_tweets == 0:\n",
    "            #with open('tweets.json','w') as outfile:\n",
    "                #json.dump(status._json, outfile)\n",
    "            \n",
    "            #with open('tweets.txt',\"w\") as outfile:    \n",
    "                #outfile.write(str(status))\n",
    "            \n",
    "            #print(status)\n",
    "            \n",
    "            #pass\n",
    "        \n",
    "        tweet=status._json\n",
    "        #print(tweet['place'])\n",
    "        \n",
    "        \n",
    "        self.file.write(json.dumps(tweet)+ '\\n')\n",
    "        #self.jfile.write(json.dumps)\n",
    "        tweet_list.append(status)\n",
    "        \n",
    "        \n",
    "        \n",
    "        \n",
    "        self.num_tweets+=1\n",
    "        if self.num_tweets < 9:\n",
    "            #print(self.num_tweets)\n",
    "            return True\n",
    "        else:\n",
    "            self.file.close()\n",
    "            return False\n",
    "        #self.file.close()"
   ]
  },
  {
   "cell_type": "code",
   "execution_count": 3,
   "id": "2f31dea7",
   "metadata": {},
   "outputs": [
    {
     "name": "stderr",
     "output_type": "stream",
     "text": [
      "Stream encountered an exception\n",
      "Traceback (most recent call last):\n",
      "  File \"C:\\Users\\Christopher\\AppData\\Roaming\\Python\\Python38\\site-packages\\tweepy\\streaming.py\", line 133, in _connect\n",
      "    self.on_data(line)\n",
      "  File \"C:\\Users\\Christopher\\AppData\\Roaming\\Python\\Python38\\site-packages\\tweepy\\streaming.py\", line 387, in on_data\n",
      "    return self.on_status(status)\n",
      "  File \"<ipython-input-2-dd2061743730>\", line 45, in on_status\n",
      "    self.file.write(json.dumps(tweet)+ '\\n')\n",
      "ValueError: I/O operation on closed file.\n"
     ]
    }
   ],
   "source": [
    "#create streaming object and authenticate\n",
    "#l = MyStreamListener()\n",
    "#stream = tweepy.StreamListener(auth,l)\n",
    "#stream =tweepy.Stream(consumer_key,consumer_secret,access_token,access_token_secret)#(auth,l)\n",
    "#stream = MyStream(consumer_key,consumer_secret,access_token,access_token_secret)\n",
    "stream=MyStream()\n",
    "\n",
    "#this line filters twitter streams to capture data by keywords\n",
    "stream.filter(track=['#covid19'],languages=[\"en\"])"
   ]
  },
  {
   "cell_type": "code",
   "execution_count": null,
   "id": "26d9de6c",
   "metadata": {},
   "outputs": [],
   "source": []
  }
 ],
 "metadata": {
  "kernelspec": {
   "display_name": "mlenv",
   "language": "python",
   "name": "mlenv"
  },
  "language_info": {
   "codemirror_mode": {
    "name": "ipython",
    "version": 3
   },
   "file_extension": ".py",
   "mimetype": "text/x-python",
   "name": "python",
   "nbconvert_exporter": "python",
   "pygments_lexer": "ipython3",
   "version": "3.8.8"
  }
 },
 "nbformat": 4,
 "nbformat_minor": 5
}
