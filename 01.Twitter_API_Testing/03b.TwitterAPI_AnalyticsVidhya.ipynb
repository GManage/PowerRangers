{
 "cells": [
  {
   "cell_type": "markdown",
   "id": "0e1f9f57",
   "metadata": {},
   "source": [
    "##### https://www.analyticsvidhya.com/blog/2020/08/analysing-streaming-tweets-with-python-and-postgresql/#h2_9"
   ]
  },
  {
   "cell_type": "markdown",
   "id": "b72d9bff",
   "metadata": {},
   "source": [
    "this saves tweets to out.csv"
   ]
  },
  {
   "cell_type": "markdown",
   "id": "4283d2ad",
   "metadata": {},
   "source": []
  },
  {
   "cell_type": "code",
   "execution_count": 1,
   "id": "7e1f9d6b",
   "metadata": {},
   "outputs": [],
   "source": [
    "# Twitter API authentication\n",
    "\n",
    "import tweepy\n",
    "import config\n",
    "import time\n",
    "\n"
   ]
  },
  {
   "cell_type": "code",
   "execution_count": 2,
   "id": "21532cc7",
   "metadata": {},
   "outputs": [],
   "source": [
    "class MyStream(tweepy.Stream):\n",
    "    \n",
    "    \n",
    "    def __init__(self, time_limit=300):\n",
    "        \n",
    "        self.start_time = time.time()\n",
    "        self.limit = time_limit\n",
    "        \n",
    "        consumer_key = config.consumer_key\n",
    "        consumer_secret = config.consumer_secret\n",
    "        access_token = config.access_token\n",
    "        access_token_secret = config.access_token_secret\n",
    "        \n",
    "        \n",
    "        \n",
    "        \n",
    "        \n",
    "        \n",
    "        super().__init__(consumer_key,consumer_secret,access_token,access_token_secret)\n",
    "    \n",
    "        #self.file=open(\"tweetvidhya.csv\",\"w\")\n",
    "    \n",
    "    \n",
    "    def on_connect(self):\n",
    "        print(\"Connected to Twitter API.\")\n",
    "    \n",
    "\n",
    "    \n",
    "    def on_status(self, status):\n",
    "        \n",
    "\n",
    "        \n",
    "        with open(\"out.csv\", \"a\", encoding='utf-8') as f:\n",
    "            f.write(\"%s,%s,%s,%s\\n\" % (status.created_at,status.user.screen_name,status.text,status.retweeted))\n",
    "\n",
    "        \n",
    "        \n",
    "        \n",
    "        # Tweet ID\n",
    "        tweet_id = status.id\n",
    "        \n",
    "        # User ID\n",
    "        user_id = status.user.id\n",
    "        # Username\n",
    "        username = status.user.name\n",
    "        \n",
    "        \n",
    "        # Tweet\n",
    "        if status.truncated == True:\n",
    "            tweet = status.extended_tweet['full_text']\n",
    "            hashtags = status.extended_tweet['entities']['hashtags']\n",
    "        else:\n",
    "            tweet = status.text\n",
    "            hashtags = status.entities['hashtags']\n",
    "        \n",
    "        # Read hastags\n",
    "        hashtags = read_hashtags(hashtags)            \n",
    "        \n",
    "        # Retweet count\n",
    "        retweet_count = status.retweet_count\n",
    "        # Language\n",
    "        lang = status.lang\n",
    "        \n",
    "        \n",
    "        # If tweet is not a retweet and tweet is in English\n",
    "        if not hasattr(status, \"retweeted_status\") and lang==\"en\":\n",
    "            # Connect to database\n",
    "            dbConnect(user_id, username, tweet_id, tweet, retweet_count, hashtags)\n",
    "            #pass\n",
    "        if (time.time() - self.start_time) > self.limit:\n",
    "            print(time.time(), self.start_time, self.limit)\n",
    "            return False\n",
    "            \n",
    "    def on_error(self, status_code):\n",
    "        if status_code == 420:\n",
    "            # Returning False in on_data disconnects the stream\n",
    "            return False"
   ]
  },
  {
   "cell_type": "code",
   "execution_count": 3,
   "id": "7185ec18",
   "metadata": {},
   "outputs": [],
   "source": [
    " # Extract hashtags\n",
    "def read_hashtags(tag_list):\n",
    "    hashtags = []\n",
    "    for tag in tag_list:\n",
    "        hashtags.append(tag['text'])\n",
    "    return hashtags"
   ]
  },
  {
   "cell_type": "code",
   "execution_count": 4,
   "id": "93d17523",
   "metadata": {},
   "outputs": [],
   "source": [
    "import psycopg2\n",
    "import config\n",
    "\n",
    "\n",
    "# Insert Tweet data into database\n",
    "def dbConnect(user_id, user_name, tweet_id, tweet, retweet_count, hashtags):\n",
    "    \n",
    "    # Connection to database server\n",
    "    conn = psycopg2.connect(host=\"localhost\",database=\"TwitterDB\",port=5432,user='postgres',password=config.db_password)\n",
    "    \n",
    "    cur = conn.cursor()\n",
    "\n",
    "    # insert user information\n",
    "    command = '''INSERT INTO TwitterUser (user_id, user_name) VALUES (%s,%s) ON CONFLICT\n",
    "                 (User_Id) DO NOTHING;'''\n",
    "    cur.execute(command,(user_id,user_name))\n",
    "\n",
    "    # insert tweet information\n",
    "    command = '''INSERT INTO TwitterTweet (tweet_id, user_id, tweet, retweet_count) VALUES (%s,%s,%s,%s);'''\n",
    "    cur.execute(command,(tweet_id, user_id, tweet, retweet_count))\n",
    "    \n",
    "    # insert entity information\n",
    "    for i in range(len(hashtags)):\n",
    "        hashtag = hashtags[i]\n",
    "        command = '''INSERT INTO TwitterEntity (tweet_id, hashtag) VALUES (%s,%s);'''\n",
    "        cur.execute(command,(tweet_id, hashtag))\n",
    "    \n",
    "    # Commit changes\n",
    "    conn.commit()\n",
    "    \n",
    "    # Disconnect\n",
    "    cur.close()\n",
    "    conn.close()"
   ]
  },
  {
   "cell_type": "code",
   "execution_count": 5,
   "id": "bcecf3da",
   "metadata": {},
   "outputs": [],
   "source": [
    "# Streaming tweets\n",
    "\n",
    "#myStream = MyStream(api_key, api_secret_key, access_token, access_token_secret)\n",
    "myStream = MyStream()\n",
    "#myStream = tweepy.Stream()#auth=api.auth, listener=myStreamListener,\n",
    "#                        tweet_mode=\"extended\")\n",
    "\n",
    "#a = MyStream(api_key, api_secret_key, access_token, access_token_secret)                      \n"
   ]
  },
  {
   "cell_type": "code",
   "execution_count": 6,
   "id": "864b8f41",
   "metadata": {
    "scrolled": false
   },
   "outputs": [
    {
     "data": {
      "text/plain": [
       "<Thread(Tweepy Stream, started 12456)>"
      ]
     },
     "execution_count": 6,
     "metadata": {},
     "output_type": "execute_result"
    },
    {
     "name": "stdout",
     "output_type": "stream",
     "text": [
      "Connected to Twitter API.\n",
      "1630529502.1968002 1630529201.7474835 300\n",
      "1630529505.804349 1630529201.7474835 300\n",
      "1630529509.3558311 1630529201.7474835 300\n",
      "1630529541.3674638 1630529201.7474835 300\n",
      "1630529550.5526867 1630529201.7474835 300\n",
      "1630529587.4322 1630529201.7474835 300\n",
      "1630529603.441754 1630529201.7474835 300\n",
      "1630529613.9801388 1630529201.7474835 300\n"
     ]
    }
   ],
   "source": [
    "myStream.filter(track=['#covid-19'], languages = [\"en\"], threaded=True)\n"
   ]
  }
 ],
 "metadata": {
  "kernelspec": {
   "display_name": "mlenv",
   "language": "python",
   "name": "mlenv"
  },
  "language_info": {
   "codemirror_mode": {
    "name": "ipython",
    "version": 3
   },
   "file_extension": ".py",
   "mimetype": "text/x-python",
   "name": "python",
   "nbconvert_exporter": "python",
   "pygments_lexer": "ipython3",
   "version": "3.8.8"
  }
 },
 "nbformat": 4,
 "nbformat_minor": 5
}
