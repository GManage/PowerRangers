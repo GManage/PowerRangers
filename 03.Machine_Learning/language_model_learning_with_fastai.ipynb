{
 "cells": [
  {
   "cell_type": "code",
   "execution_count": 1,
   "id": "7ac6d235",
   "metadata": {},
   "outputs": [],
   "source": [
    "from fastai.text.all import *"
   ]
  },
  {
   "cell_type": "code",
   "execution_count": 2,
   "id": "c03ab64d",
   "metadata": {},
   "outputs": [
    {
     "data": {
      "text/plain": [
       "'\\nconda create -n fastai python=3.7 #New blank slate env\\nconda activate fastai\\nconda install -c pytorch -c fastai fastai #No erors this time\\nconda list | grep fastai #It shows up now!\\nconda install jupyter #reinstall jupyter notebook \\n'"
      ]
     },
     "execution_count": 2,
     "metadata": {},
     "output_type": "execute_result"
    }
   ],
   "source": [
    "'''\n",
    "conda create -n fastai python=3.7 #New blank slate env\n",
    "conda activate fastai\n",
    "conda install -c pytorch -c fastai fastai #No erors this time\n",
    "conda list | grep fastai #It shows up now!\n",
    "conda install jupyter #reinstall jupyter notebook \n",
    "'''"
   ]
  },
  {
   "cell_type": "code",
   "execution_count": 3,
   "id": "7fffaf5d",
   "metadata": {},
   "outputs": [],
   "source": [
    "import pandas as pd\n",
    "import os"
   ]
  },
  {
   "cell_type": "code",
   "execution_count": 4,
   "id": "f50f9a0d",
   "metadata": {},
   "outputs": [
    {
     "data": {
      "text/html": [
       "<div>\n",
       "<style scoped>\n",
       "    .dataframe tbody tr th:only-of-type {\n",
       "        vertical-align: middle;\n",
       "    }\n",
       "\n",
       "    .dataframe tbody tr th {\n",
       "        vertical-align: top;\n",
       "    }\n",
       "\n",
       "    .dataframe thead th {\n",
       "        text-align: right;\n",
       "    }\n",
       "</style>\n",
       "<table border=\"1\" class=\"dataframe\">\n",
       "  <thead>\n",
       "    <tr style=\"text-align: right;\">\n",
       "      <th></th>\n",
       "      <th>id</th>\n",
       "      <th>user_name</th>\n",
       "      <th>user_location</th>\n",
       "      <th>user_description</th>\n",
       "      <th>user_created</th>\n",
       "      <th>user_followers</th>\n",
       "      <th>user_friends</th>\n",
       "      <th>user_favourites</th>\n",
       "      <th>user_verified</th>\n",
       "      <th>date</th>\n",
       "      <th>text</th>\n",
       "      <th>hashtags</th>\n",
       "      <th>source</th>\n",
       "      <th>retweets</th>\n",
       "      <th>favorites</th>\n",
       "      <th>is_retweet</th>\n",
       "    </tr>\n",
       "  </thead>\n",
       "  <tbody>\n",
       "    <tr>\n",
       "      <th>0</th>\n",
       "      <td>1340539111971516416</td>\n",
       "      <td>Rachel Roh</td>\n",
       "      <td>La Crescenta-Montrose, CA</td>\n",
       "      <td>Aggregator of Asian American news; scanning diverse sources 24/7/365. RT's, Follows and 'Likes' will fuel me 👩‍💻</td>\n",
       "      <td>2009-04-08 17:52:46</td>\n",
       "      <td>405</td>\n",
       "      <td>1692</td>\n",
       "      <td>3247</td>\n",
       "      <td>False</td>\n",
       "      <td>2020-12-20 06:06:44</td>\n",
       "      <td>Same folks said daikon paste could treat a cytokine storm #PfizerBioNTech https://t.co/xeHhIMg1kF</td>\n",
       "      <td>['PfizerBioNTech']</td>\n",
       "      <td>Twitter for Android</td>\n",
       "      <td>0</td>\n",
       "      <td>0</td>\n",
       "      <td>False</td>\n",
       "    </tr>\n",
       "    <tr>\n",
       "      <th>1</th>\n",
       "      <td>1338158543359250433</td>\n",
       "      <td>Albert Fong</td>\n",
       "      <td>San Francisco, CA</td>\n",
       "      <td>Marketing dude, tech geek, heavy metal &amp; '80s music junkie. Fascinated by meteorology and all things in the cloud. Opinions are my own.</td>\n",
       "      <td>2009-09-21 15:27:30</td>\n",
       "      <td>834</td>\n",
       "      <td>666</td>\n",
       "      <td>178</td>\n",
       "      <td>False</td>\n",
       "      <td>2020-12-13 16:27:13</td>\n",
       "      <td>While the world has been on the wrong side of history this year, hopefully, the biggest vaccination effort we've ev… https://t.co/dlCHrZjkhm</td>\n",
       "      <td>NaN</td>\n",
       "      <td>Twitter Web App</td>\n",
       "      <td>1</td>\n",
       "      <td>1</td>\n",
       "      <td>False</td>\n",
       "    </tr>\n",
       "    <tr>\n",
       "      <th>2</th>\n",
       "      <td>1337858199140118533</td>\n",
       "      <td>eli🇱🇹🇪🇺👌</td>\n",
       "      <td>Your Bed</td>\n",
       "      <td>heil, hydra 🖐☺</td>\n",
       "      <td>2020-06-25 23:30:28</td>\n",
       "      <td>10</td>\n",
       "      <td>88</td>\n",
       "      <td>155</td>\n",
       "      <td>False</td>\n",
       "      <td>2020-12-12 20:33:45</td>\n",
       "      <td>#coronavirus #SputnikV #AstraZeneca #PfizerBioNTech #Moderna #Covid_19 Russian vaccine is created to last 2-4 years… https://t.co/ieYlCKBr8P</td>\n",
       "      <td>['coronavirus', 'SputnikV', 'AstraZeneca', 'PfizerBioNTech', 'Moderna', 'Covid_19']</td>\n",
       "      <td>Twitter for Android</td>\n",
       "      <td>0</td>\n",
       "      <td>0</td>\n",
       "      <td>False</td>\n",
       "    </tr>\n",
       "    <tr>\n",
       "      <th>3</th>\n",
       "      <td>1337855739918835717</td>\n",
       "      <td>Charles Adler</td>\n",
       "      <td>Vancouver, BC - Canada</td>\n",
       "      <td>Hosting \"CharlesAdlerTonight\" Global News Radio Network. Weeknights 7 Pacific-10 Eastern - Email comments/ideas to charles@charlesadlertonight.ca</td>\n",
       "      <td>2008-09-10 11:28:53</td>\n",
       "      <td>49165</td>\n",
       "      <td>3933</td>\n",
       "      <td>21853</td>\n",
       "      <td>True</td>\n",
       "      <td>2020-12-12 20:23:59</td>\n",
       "      <td>Facts are immutable, Senator, even when you're not ethically sturdy enough to acknowledge them. (1) You were born i… https://t.co/jqgV18kch4</td>\n",
       "      <td>NaN</td>\n",
       "      <td>Twitter Web App</td>\n",
       "      <td>446</td>\n",
       "      <td>2129</td>\n",
       "      <td>False</td>\n",
       "    </tr>\n",
       "    <tr>\n",
       "      <th>4</th>\n",
       "      <td>1337854064604966912</td>\n",
       "      <td>Citizen News Channel</td>\n",
       "      <td>NaN</td>\n",
       "      <td>Citizen News Channel bringing you an alternative news source from citizen journalists that haven't sold out. Real news &amp; real views</td>\n",
       "      <td>2020-04-23 17:58:42</td>\n",
       "      <td>152</td>\n",
       "      <td>580</td>\n",
       "      <td>1473</td>\n",
       "      <td>False</td>\n",
       "      <td>2020-12-12 20:17:19</td>\n",
       "      <td>Explain to me again why we need a vaccine @BorisJohnson @MattHancock #whereareallthesickpeople #PfizerBioNTech… https://t.co/KxbSRoBEHq</td>\n",
       "      <td>['whereareallthesickpeople', 'PfizerBioNTech']</td>\n",
       "      <td>Twitter for iPhone</td>\n",
       "      <td>0</td>\n",
       "      <td>0</td>\n",
       "      <td>False</td>\n",
       "    </tr>\n",
       "  </tbody>\n",
       "</table>\n",
       "</div>"
      ],
      "text/plain": [
       "                    id             user_name              user_location  \\\n",
       "0  1340539111971516416            Rachel Roh  La Crescenta-Montrose, CA   \n",
       "1  1338158543359250433           Albert Fong          San Francisco, CA   \n",
       "2  1337858199140118533              eli🇱🇹🇪🇺👌                   Your Bed   \n",
       "3  1337855739918835717         Charles Adler     Vancouver, BC - Canada   \n",
       "4  1337854064604966912  Citizen News Channel                        NaN   \n",
       "\n",
       "                                                                                                                                    user_description  \\\n",
       "0                                   Aggregator of Asian American news; scanning diverse sources 24/7/365. RT's, Follows and 'Likes' will fuel me 👩‍💻   \n",
       "1            Marketing dude, tech geek, heavy metal & '80s music junkie. Fascinated by meteorology and all things in the cloud. Opinions are my own.   \n",
       "2                                                                                                                                     heil, hydra 🖐☺   \n",
       "3  Hosting \"CharlesAdlerTonight\" Global News Radio Network. Weeknights 7 Pacific-10 Eastern - Email comments/ideas to charles@charlesadlertonight.ca   \n",
       "4                Citizen News Channel bringing you an alternative news source from citizen journalists that haven't sold out. Real news & real views   \n",
       "\n",
       "          user_created  user_followers  user_friends  user_favourites  \\\n",
       "0  2009-04-08 17:52:46             405          1692             3247   \n",
       "1  2009-09-21 15:27:30             834           666              178   \n",
       "2  2020-06-25 23:30:28              10            88              155   \n",
       "3  2008-09-10 11:28:53           49165          3933            21853   \n",
       "4  2020-04-23 17:58:42             152           580             1473   \n",
       "\n",
       "   user_verified                 date  \\\n",
       "0          False  2020-12-20 06:06:44   \n",
       "1          False  2020-12-13 16:27:13   \n",
       "2          False  2020-12-12 20:33:45   \n",
       "3           True  2020-12-12 20:23:59   \n",
       "4          False  2020-12-12 20:17:19   \n",
       "\n",
       "                                                                                                                                           text  \\\n",
       "0                                             Same folks said daikon paste could treat a cytokine storm #PfizerBioNTech https://t.co/xeHhIMg1kF   \n",
       "1  While the world has been on the wrong side of history this year, hopefully, the biggest vaccination effort we've ev… https://t.co/dlCHrZjkhm   \n",
       "2  #coronavirus #SputnikV #AstraZeneca #PfizerBioNTech #Moderna #Covid_19 Russian vaccine is created to last 2-4 years… https://t.co/ieYlCKBr8P   \n",
       "3  Facts are immutable, Senator, even when you're not ethically sturdy enough to acknowledge them. (1) You were born i… https://t.co/jqgV18kch4   \n",
       "4       Explain to me again why we need a vaccine @BorisJohnson @MattHancock #whereareallthesickpeople #PfizerBioNTech… https://t.co/KxbSRoBEHq   \n",
       "\n",
       "                                                                              hashtags  \\\n",
       "0                                                                   ['PfizerBioNTech']   \n",
       "1                                                                                  NaN   \n",
       "2  ['coronavirus', 'SputnikV', 'AstraZeneca', 'PfizerBioNTech', 'Moderna', 'Covid_19']   \n",
       "3                                                                                  NaN   \n",
       "4                                       ['whereareallthesickpeople', 'PfizerBioNTech']   \n",
       "\n",
       "                source  retweets  favorites  is_retweet  \n",
       "0  Twitter for Android         0          0       False  \n",
       "1      Twitter Web App         1          1       False  \n",
       "2  Twitter for Android         0          0       False  \n",
       "3      Twitter Web App       446       2129       False  \n",
       "4   Twitter for iPhone         0          0       False  "
      ]
     },
     "execution_count": 4,
     "metadata": {},
     "output_type": "execute_result"
    }
   ],
   "source": [
    "vax_tweets = pd.read_csv(\"Resources/vaccination_all_tweets.csv\")#vaccination_all_tweets.csv downloaded from https://www.kaggle.com/gpreda/all-covid19-vaccines-tweets/activity\n",
    "vax_tweets.head()"
   ]
  },
  {
   "cell_type": "code",
   "execution_count": 5,
   "id": "0d5c7fba",
   "metadata": {},
   "outputs": [
    {
     "data": {
      "text/html": [
       "<div>\n",
       "<style scoped>\n",
       "    .dataframe tbody tr th:only-of-type {\n",
       "        vertical-align: middle;\n",
       "    }\n",
       "\n",
       "    .dataframe tbody tr th {\n",
       "        vertical-align: top;\n",
       "    }\n",
       "\n",
       "    .dataframe thead th {\n",
       "        text-align: right;\n",
       "    }\n",
       "</style>\n",
       "<table border=\"1\" class=\"dataframe\">\n",
       "  <thead>\n",
       "    <tr style=\"text-align: right;\">\n",
       "      <th></th>\n",
       "      <th>textID</th>\n",
       "      <th>sentiment</th>\n",
       "      <th>author</th>\n",
       "      <th>text</th>\n",
       "      <th>old_text</th>\n",
       "      <th>aux_id</th>\n",
       "      <th>new_sentiment</th>\n",
       "      <th>selected_text</th>\n",
       "    </tr>\n",
       "  </thead>\n",
       "  <tbody>\n",
       "    <tr>\n",
       "      <th>0</th>\n",
       "      <td>1956967341</td>\n",
       "      <td>empty</td>\n",
       "      <td>xoshayzers</td>\n",
       "      <td>i know  i was listenin to bad habit earlier and i started freakin at his part =[</td>\n",
       "      <td>@tiffanylue i know  i was listenin to bad habit earlier and i started freakin at his part =[</td>\n",
       "      <td>p1000000000</td>\n",
       "      <td>NaN</td>\n",
       "      <td>NaN</td>\n",
       "    </tr>\n",
       "    <tr>\n",
       "      <th>1</th>\n",
       "      <td>1956967666</td>\n",
       "      <td>sadness</td>\n",
       "      <td>wannamama</td>\n",
       "      <td>Layin n bed with a headache  ughhhh...waitin on your call...</td>\n",
       "      <td>Layin n bed with a headache  ughhhh...waitin on your call...</td>\n",
       "      <td>c811396dc2</td>\n",
       "      <td>negative</td>\n",
       "      <td>headache</td>\n",
       "    </tr>\n",
       "    <tr>\n",
       "      <th>2</th>\n",
       "      <td>1956967696</td>\n",
       "      <td>sadness</td>\n",
       "      <td>coolfunky</td>\n",
       "      <td>Funeral ceremony...gloomy friday...</td>\n",
       "      <td>Funeral ceremony...gloomy friday...</td>\n",
       "      <td>9063631ab1</td>\n",
       "      <td>negative</td>\n",
       "      <td>gloomy</td>\n",
       "    </tr>\n",
       "    <tr>\n",
       "      <th>3</th>\n",
       "      <td>1956967789</td>\n",
       "      <td>enthusiasm</td>\n",
       "      <td>czareaquino</td>\n",
       "      <td>wants to hang out with friends SOON!</td>\n",
       "      <td>wants to hang out with friends SOON!</td>\n",
       "      <td>2a815f151d</td>\n",
       "      <td>positive</td>\n",
       "      <td>wants to hang out with friends SOON!</td>\n",
       "    </tr>\n",
       "    <tr>\n",
       "      <th>4</th>\n",
       "      <td>1956968416</td>\n",
       "      <td>neutral</td>\n",
       "      <td>xkilljoyx</td>\n",
       "      <td>We want to trade with someone who has Houston tickets, but no one will.</td>\n",
       "      <td>@dannycastillo We want to trade with someone who has Houston tickets, but no one will.</td>\n",
       "      <td>82565a56d3</td>\n",
       "      <td>neutral</td>\n",
       "      <td>We want to trade with someone who has Houston tickets, but no one will.</td>\n",
       "    </tr>\n",
       "  </tbody>\n",
       "</table>\n",
       "</div>"
      ],
      "text/plain": [
       "       textID   sentiment       author  \\\n",
       "0  1956967341       empty   xoshayzers   \n",
       "1  1956967666     sadness    wannamama   \n",
       "2  1956967696     sadness    coolfunky   \n",
       "3  1956967789  enthusiasm  czareaquino   \n",
       "4  1956968416     neutral    xkilljoyx   \n",
       "\n",
       "                                                                                text  \\\n",
       "0   i know  i was listenin to bad habit earlier and i started freakin at his part =[   \n",
       "1                       Layin n bed with a headache  ughhhh...waitin on your call...   \n",
       "2                                                Funeral ceremony...gloomy friday...   \n",
       "3                                               wants to hang out with friends SOON!   \n",
       "4            We want to trade with someone who has Houston tickets, but no one will.   \n",
       "\n",
       "                                                                                       old_text  \\\n",
       "0  @tiffanylue i know  i was listenin to bad habit earlier and i started freakin at his part =[   \n",
       "1                                  Layin n bed with a headache  ughhhh...waitin on your call...   \n",
       "2                                                           Funeral ceremony...gloomy friday...   \n",
       "3                                                          wants to hang out with friends SOON!   \n",
       "4        @dannycastillo We want to trade with someone who has Houston tickets, but no one will.   \n",
       "\n",
       "        aux_id new_sentiment  \\\n",
       "0  p1000000000           NaN   \n",
       "1   c811396dc2      negative   \n",
       "2   9063631ab1      negative   \n",
       "3   2a815f151d      positive   \n",
       "4   82565a56d3       neutral   \n",
       "\n",
       "                                                             selected_text  \n",
       "0                                                                      NaN  \n",
       "1                                                                 headache  \n",
       "2                                                                   gloomy  \n",
       "3                                     wants to hang out with friends SOON!  \n",
       "4  We want to trade with someone who has Houston tickets, but no one will.  "
      ]
     },
     "execution_count": 5,
     "metadata": {},
     "output_type": "execute_result"
    }
   ],
   "source": [
    "tweets = pd.read_csv('Resources/tweet_dataset.csv')#tweet_dataset.csv downloaded from https://www.kaggle.com/maxjon/complete-tweet-sentiment-extraction-data/activity\n",
    "tweets.head()"
   ]
  },
  {
   "cell_type": "code",
   "execution_count": 6,
   "id": "19fd7d93",
   "metadata": {},
   "outputs": [],
   "source": [
    "def de_emojify(inputString):\n",
    "    return inputString.encode('ascii', 'ignore').decode('ascii')"
   ]
  },
  {
   "cell_type": "code",
   "execution_count": 7,
   "id": "60100a47",
   "metadata": {},
   "outputs": [],
   "source": [
    "def tweet_proc(df, text_col='text'):\n",
    "    df['orig_text'] = df[text_col]\n",
    "    # Remove twitter handles\n",
    "    df[text_col] = df[text_col].apply(lambda x:re.sub('@[^\\s]+','',x))\n",
    "    # Remove URLs\n",
    "    df[text_col] = df[text_col].apply(lambda x:re.sub(r\"http\\S+\", \"\", x))\n",
    "    # Remove emojis\n",
    "    df[text_col] = df[text_col].apply(de_emojify)\n",
    "    # Remove hashtags\n",
    "    df[text_col] = df[text_col].apply(lambda x:re.sub(r'\\B#\\S+','',x))\n",
    "    return df[df[text_col]!='']"
   ]
  },
  {
   "cell_type": "code",
   "execution_count": 8,
   "id": "9480f83f",
   "metadata": {},
   "outputs": [
    {
     "name": "stdout",
     "output_type": "stream",
     "text": [
      "218810 31323\n"
     ]
    }
   ],
   "source": [
    "# Clean the text data and combine the dfs\n",
    "tweets = tweets[['old_text', 'new_sentiment']].rename(columns={'old_text':'text', 'new_sentiment':'sentiment'})\n",
    "vax_tweets['sentiment'] = np.nan\n",
    "tweets = tweet_proc(tweets)\n",
    "vax_tweets = tweet_proc(vax_tweets)\n",
    "df_lm = tweets[['text', 'sentiment']].append(vax_tweets[['text', 'sentiment']])\n",
    "df_clas = df_lm.dropna(subset=['sentiment'])\n",
    "print(len(df_lm), len(df_clas))"
   ]
  },
  {
   "cell_type": "code",
   "execution_count": 9,
   "id": "7b30438a",
   "metadata": {},
   "outputs": [
    {
     "data": {
      "text/html": [
       "<div>\n",
       "<style scoped>\n",
       "    .dataframe tbody tr th:only-of-type {\n",
       "        vertical-align: middle;\n",
       "    }\n",
       "\n",
       "    .dataframe tbody tr th {\n",
       "        vertical-align: top;\n",
       "    }\n",
       "\n",
       "    .dataframe thead th {\n",
       "        text-align: right;\n",
       "    }\n",
       "</style>\n",
       "<table border=\"1\" class=\"dataframe\">\n",
       "  <thead>\n",
       "    <tr style=\"text-align: right;\">\n",
       "      <th></th>\n",
       "      <th>text</th>\n",
       "      <th>sentiment</th>\n",
       "    </tr>\n",
       "  </thead>\n",
       "  <tbody>\n",
       "    <tr>\n",
       "      <th>1</th>\n",
       "      <td>Layin n bed with a headache  ughhhh...waitin on your call...</td>\n",
       "      <td>negative</td>\n",
       "    </tr>\n",
       "    <tr>\n",
       "      <th>2</th>\n",
       "      <td>Funeral ceremony...gloomy friday...</td>\n",
       "      <td>negative</td>\n",
       "    </tr>\n",
       "    <tr>\n",
       "      <th>3</th>\n",
       "      <td>wants to hang out with friends SOON!</td>\n",
       "      <td>positive</td>\n",
       "    </tr>\n",
       "    <tr>\n",
       "      <th>4</th>\n",
       "      <td>We want to trade with someone who has Houston tickets, but no one will.</td>\n",
       "      <td>neutral</td>\n",
       "    </tr>\n",
       "    <tr>\n",
       "      <th>5</th>\n",
       "      <td>Re-pinging  why didn't you go to prom? BC my bf didn't like my friends</td>\n",
       "      <td>negative</td>\n",
       "    </tr>\n",
       "  </tbody>\n",
       "</table>\n",
       "</div>"
      ],
      "text/plain": [
       "                                                                       text  \\\n",
       "1              Layin n bed with a headache  ughhhh...waitin on your call...   \n",
       "2                                       Funeral ceremony...gloomy friday...   \n",
       "3                                      wants to hang out with friends SOON!   \n",
       "4   We want to trade with someone who has Houston tickets, but no one will.   \n",
       "5    Re-pinging  why didn't you go to prom? BC my bf didn't like my friends   \n",
       "\n",
       "  sentiment  \n",
       "1  negative  \n",
       "2  negative  \n",
       "3  positive  \n",
       "4   neutral  \n",
       "5  negative  "
      ]
     },
     "execution_count": 9,
     "metadata": {},
     "output_type": "execute_result"
    }
   ],
   "source": [
    "df_clas.head()"
   ]
  },
  {
   "cell_type": "markdown",
   "id": "af18e35c",
   "metadata": {},
   "source": [
    "Training Language Model \n",
    "using the DataLoaders class, which converts our input data into a DataLoader object that can be used as an input to a fastai Learner."
   ]
  },
  {
   "cell_type": "code",
   "execution_count": 10,
   "id": "31bf09d6",
   "metadata": {},
   "outputs": [
    {
     "data": {
      "text/html": [],
      "text/plain": [
       "<IPython.core.display.HTML object>"
      ]
     },
     "metadata": {},
     "output_type": "display_data"
    }
   ],
   "source": [
    "dls_lm = TextDataLoaders.from_df(df_lm, text_col='text', is_lm=True, valid_pct=0.1)"
   ]
  },
  {
   "cell_type": "markdown",
   "id": "f6b10899",
   "metadata": {},
   "source": [
    "Told fastai that we are working with \"text\" data, which is contained in the \"text\" column of a pandas DataFrame called \"df_lm\". We set is_lm=True since we want to train a language model, so fastai needs to label the input data for us. Finally, we told fastai to hold out a random 10% of our data for a validation set using valid_pct=0.1.\n",
    "\n",
    "Take a look at the first 5 row of DataLoader using show_batch\n"
   ]
  },
  {
   "cell_type": "code",
   "execution_count": 11,
   "id": "c9e10988",
   "metadata": {},
   "outputs": [
    {
     "data": {
      "text/html": [
       "<table border=\"1\" class=\"dataframe\">\n",
       "  <thead>\n",
       "    <tr style=\"text-align: right;\">\n",
       "      <th></th>\n",
       "      <th>text</th>\n",
       "      <th>text_</th>\n",
       "    </tr>\n",
       "  </thead>\n",
       "  <tbody>\n",
       "    <tr>\n",
       "      <th>0</th>\n",
       "      <td>xxbos [ xxunk ] 411060 , 17 - 06 - 2021 , 60 dose2 at xxmaj bhangire xxmaj hospital - xxup pmcg , xxmaj mohammadwadi xxmaj pune xxbos at last … now just waiting for extra - xxunk or superpowers . joined to xxrep 3 x xxunk . xxbos xxmaj the is the first country in the xxmaj middle xxmaj east and xxmaj north xxmaj africa region to conduct a study of</td>\n",
       "      <td>[ xxunk ] 411060 , 17 - 06 - 2021 , 60 dose2 at xxmaj bhangire xxmaj hospital - xxup pmcg , xxmaj mohammadwadi xxmaj pune xxbos at last … now just waiting for extra - xxunk or superpowers . joined to xxrep 3 x xxunk . xxbos xxmaj the is the first country in the xxmaj middle xxmaj east and xxmaj north xxmaj africa region to conduct a study of the</td>\n",
       "    </tr>\n",
       "    <tr>\n",
       "      <th>1</th>\n",
       "      <td>pincode : 560010 \\n xxup sputnik v - xxmaj dose 2 : 95 slots \\n\\n xxmaj age : 18 and above ( all xxmaj ages ) \\n xxmaj date : 13 xxmaj aug 2021 \\n xxmaj fees : 1145 \\n xxup nu xxup hospit xxbos xxmaj find a xxup covid-19 xxmaj near xxmaj you in xxbos xxmaj where is the scope for diplomatic xxunk in this mess and muddy atmosphere ? xxmaj</td>\n",
       "      <td>: 560010 \\n xxup sputnik v - xxmaj dose 2 : 95 slots \\n\\n xxmaj age : 18 and above ( all xxmaj ages ) \\n xxmaj date : 13 xxmaj aug 2021 \\n xxmaj fees : 1145 \\n xxup nu xxup hospit xxbos xxmaj find a xxup covid-19 xxmaj near xxmaj you in xxbos xxmaj where is the scope for diplomatic xxunk in this mess and muddy atmosphere ? xxmaj simply</td>\n",
       "    </tr>\n",
       "    <tr>\n",
       "      <th>2</th>\n",
       "      <td>xxmaj aug 2021 \\n xxmaj fees : 1200 \\n xxup apoorva xxup hos xxbos xxmaj if there are any adverse side xxunk ) or injury ( including death ) , who does one call and what is the mechanism pu xxbos xxmaj also with the not driving part i could afford a laptop . xxmaj also living with a roommate i would save even more xxbos xxmaj here we go ; \\n\\n</td>\n",
       "      <td>aug 2021 \\n xxmaj fees : 1200 \\n xxup apoorva xxup hos xxbos xxmaj if there are any adverse side xxunk ) or injury ( including death ) , who does one call and what is the mechanism pu xxbos xxmaj also with the not driving part i could afford a laptop . xxmaj also living with a roommate i would save even more xxbos xxmaj here we go ; \\n\\n xxup</td>\n",
       "    </tr>\n",
       "    <tr>\n",
       "      <th>3</th>\n",
       "      <td>trump covered xxmaj america xxup not \\n▁ xxmaj vaccine doses ordered by xxmaj trump xxmaj admin : \\n 1 . 200 mm w an option for a xxbos 560070 , \\n xxup age 45 + \\n 14-d1 , 20-d2 slots , \\n▁ on 16 - 06 - 2021 \\n @ xxup nu xxup hospitals xxup padmanabhanagar -(1410rs ) xxbos xxmaj today i xxup hurt . xxmaj my whole body aches and it</td>\n",
       "      <td>covered xxmaj america xxup not \\n▁ xxmaj vaccine doses ordered by xxmaj trump xxmaj admin : \\n 1 . 200 mm w an option for a xxbos 560070 , \\n xxup age 45 + \\n 14-d1 , 20-d2 slots , \\n▁ on 16 - 06 - 2021 \\n @ xxup nu xxup hospitals xxup padmanabhanagar -(1410rs ) xxbos xxmaj today i xxup hurt . xxmaj my whole body aches and it feels</td>\n",
       "    </tr>\n",
       "    <tr>\n",
       "      <th>4</th>\n",
       "      <td>to sell fake vaccines on facebook by xxunk xxbos xxmaj this train is so squeaky its givin me a sore head its bad enough i have to go to work ! xxbos the xxmaj russian - made vaccine against xxmaj covid-19 , is likely to be available at xxmaj indraprastha xxmaj apollo xxmaj hospital in xxbos xxmaj pfizer / biontech vaccine appears effective against mutation in new coronavirus variants -study | xxmaj</td>\n",
       "      <td>sell fake vaccines on facebook by xxunk xxbos xxmaj this train is so squeaky its givin me a sore head its bad enough i have to go to work ! xxbos the xxmaj russian - made vaccine against xxmaj covid-19 , is likely to be available at xxmaj indraprastha xxmaj apollo xxmaj hospital in xxbos xxmaj pfizer / biontech vaccine appears effective against mutation in new coronavirus variants -study | xxmaj reuters</td>\n",
       "    </tr>\n",
       "  </tbody>\n",
       "</table>"
      ],
      "text/plain": [
       "<IPython.core.display.HTML object>"
      ]
     },
     "metadata": {},
     "output_type": "display_data"
    }
   ],
   "source": [
    "dls_lm.show_batch(max_n=5)"
   ]
  },
  {
   "cell_type": "markdown",
   "id": "5864df18",
   "metadata": {},
   "source": [
    "create a language model using language_model_learner"
   ]
  },
  {
   "cell_type": "code",
   "execution_count": 12,
   "id": "97fe12fb",
   "metadata": {},
   "outputs": [
    {
     "name": "stderr",
     "output_type": "stream",
     "text": [
      "/Users/jtangesq/opt/anaconda3/envs/fastai/lib/python3.7/site-packages/torch/cuda/amp/autocast_mode.py:120: UserWarning: torch.cuda.amp.autocast only affects CUDA ops, but CUDA is not available.  Disabling.\n",
      "  warnings.warn(\"torch.cuda.amp.autocast only affects CUDA ops, but CUDA is not available.  Disabling.\")\n"
     ]
    }
   ],
   "source": [
    "lan_learn = language_model_learner(dls_lm, AWD_LSTM, drop_mult=0.3, metrics=[accuracy, Perplexity()]).to_fp16()"
   ]
  },
  {
   "cell_type": "code",
   "execution_count": 13,
   "id": "89c3defb",
   "metadata": {},
   "outputs": [
    {
     "name": "stderr",
     "output_type": "stream",
     "text": [
      "/Users/jtangesq/opt/anaconda3/envs/fastai/lib/python3.7/site-packages/torch/cuda/amp/grad_scaler.py:115: UserWarning: torch.cuda.amp.GradScaler is enabled, but CUDA is not available.  Disabling.\n",
      "  warnings.warn(\"torch.cuda.amp.GradScaler is enabled, but CUDA is not available.  Disabling.\")\n"
     ]
    },
    {
     "data": {
      "text/html": [],
      "text/plain": [
       "<IPython.core.display.HTML object>"
      ]
     },
     "metadata": {},
     "output_type": "display_data"
    },
    {
     "name": "stderr",
     "output_type": "stream",
     "text": [
      "/Users/jtangesq/opt/anaconda3/envs/fastai/lib/python3.7/site-packages/fastai/callback/schedule.py:269: UserWarning: color is redundantly defined by the 'color' keyword argument and the fmt string \"ro\" (-> color='r'). The keyword argument will take precedence.\n",
      "  ax.plot(val, idx, 'ro', label=nm, c=color)\n"
     ]
    },
    {
     "data": {
      "text/plain": [
       "SuggestedLRs(valley=0.004365158267319202)"
      ]
     },
     "execution_count": 13,
     "metadata": {},
     "output_type": "execute_result"
    },
    {
     "data": {
      "image/png": "[encoded data removed]",
      "text/plain": [
       "<Figure size 432x288 with 1 Axes>"
      ]
     },
     "metadata": {
      "needs_background": "light"
     },
     "output_type": "display_data"
    }
   ],
   "source": [
    "#Using lr_find to find good learning rate \n",
    "lan_learn.lr_find()"
   ]
  },
  {
   "cell_type": "code",
   "execution_count": null,
   "id": "4a1d12a2",
   "metadata": {},
   "outputs": [],
   "source": [
    "'''The pre-trained layers were also automatically frozen for us. Using fit_one_cycle with our Learner \n",
    "will train only the new random embeddings (i.e. words that are in our \n",
    "Twitter vocab but not the Wikipedia vocab) in the last layer of the neural network.\n",
    "'''\n",
    "lan_learn.fit_one_cycle(1, 3e-2)"
   ]
  },
  {
   "cell_type": "code",
   "execution_count": null,
   "id": "7d8e7afb",
   "metadata": {},
   "outputs": [],
   "source": [
    "#unfreeze the entire model, find a more suitable learning rate and train for a few more epochs \n",
    "#to improve the accuracy further.\n",
    "lan_learn.unfreeze()\n",
    "lan_learn.lr_find()"
   ]
  },
  {
   "cell_type": "code",
   "execution_count": null,
   "id": "225ec0a6",
   "metadata": {},
   "outputs": [],
   "source": [
    "lan_learn.fit_one_cycle(4, 1e-3)"
   ]
  },
  {
   "cell_type": "code",
   "execution_count": null,
   "id": "c3d10d49",
   "metadata": {},
   "outputs": [],
   "source": [
    "# Text generation using the language model\n",
    "TEXT = \"I like\"\n",
    "N_WORDS = 30\n",
    "N_SENTENCES = 2\n",
    "print(\"\\n\".join(learn.predict(TEXT, N_WORDS, temperature=0.75) for _ in range(N_SENTENCES)))"
   ]
  },
  {
   "cell_type": "code",
   "execution_count": null,
   "id": "4ef99754",
   "metadata": {},
   "outputs": [],
   "source": [
    "lan_learn.save_encoder('finetuned_lm')"
   ]
  },
  {
   "cell_type": "markdown",
   "id": "a5c37567",
   "metadata": {},
   "source": [
    "Train sentiment classifier"
   ]
  },
  {
   "cell_type": "code",
   "execution_count": null,
   "id": "6b2acb48",
   "metadata": {},
   "outputs": [],
   "source": [
    "dls_clas = DataBlock(\n",
    "    blocks = (TextBlock.from_df('text', seq_len=dls_lm.seq_len, vocab=dls_lm.vocab), CategoryBlock),\n",
    "    get_x=ColReader('text'),\n",
    "    get_y=ColReader('sentiment'),\n",
    "    splitter=RandomSplitter()\n",
    ").dataloaders(df_clas, bs=64)"
   ]
  },
  {
   "cell_type": "code",
   "execution_count": null,
   "id": "4505d48a",
   "metadata": {},
   "outputs": [],
   "source": [
    "dls_clas.show_batch(max_n=2)"
   ]
  },
  {
   "cell_type": "code",
   "execution_count": null,
   "id": "64ad7f56",
   "metadata": {},
   "outputs": [],
   "source": [
    "#train the classifier using text_classifier_learner\n",
    "lan_learn = text_classifier_learner(dls_clas, AWD_LSTM, drop_mult=0.5, metrics=accuracy).to_fp16()"
   ]
  },
  {
   "cell_type": "code",
   "execution_count": null,
   "id": "b6f08eb9",
   "metadata": {},
   "outputs": [],
   "source": [
    "#Load the encoder from the language model we trained earlier, so our classifier uses pre-trained weights.\n",
    "lan_learn = learn.load_encoder('finetuned_lm')"
   ]
  },
  {
   "cell_type": "markdown",
   "id": "cb6bfbfa",
   "metadata": {},
   "source": [
    "Fine-tuning the classifier"
   ]
  },
  {
   "cell_type": "code",
   "execution_count": null,
   "id": "83186f08",
   "metadata": {},
   "outputs": [],
   "source": [
    "lan_learn.fit_one_cycle(1, 3e-2)"
   ]
  },
  {
   "cell_type": "code",
   "execution_count": null,
   "id": "20845fd4",
   "metadata": {},
   "outputs": [],
   "source": [
    "lan_learn.freeze_to(-2)\n",
    "lan_learn.fit_one_cycle(1, slice(1e-2/(2.6**4),1e-2))"
   ]
  },
  {
   "cell_type": "code",
   "execution_count": null,
   "id": "560c0558",
   "metadata": {},
   "outputs": [],
   "source": [
    "lan_learn.freeze_to(-3)\n",
    "lan_learn.fit_one_cycle(1, slice(5e-3/(2.6**4),5e-3))"
   ]
  },
  {
   "cell_type": "code",
   "execution_count": null,
   "id": "ee9eb2a2",
   "metadata": {},
   "outputs": [],
   "source": [
    "lan_learn.unfreeze()\n",
    "lan_learn.fit_one_cycle(3, slice(1e-3/(2.6**4),1e-3))"
   ]
  },
  {
   "cell_type": "code",
   "execution_count": null,
   "id": "11f79830",
   "metadata": {},
   "outputs": [],
   "source": [
    "lan_learn.save('classifier')"
   ]
  },
  {
   "cell_type": "code",
   "execution_count": null,
   "id": "a6b2c8c3",
   "metadata": {},
   "outputs": [],
   "source": [
    "lan_learn.predict(\"I love\")"
   ]
  },
  {
   "cell_type": "code",
   "execution_count": null,
   "id": "b241d2e2",
   "metadata": {},
   "outputs": [],
   "source": [
    "lan_learn.predict('I hate')"
   ]
  },
  {
   "cell_type": "markdown",
   "id": "416f4606",
   "metadata": {},
   "source": [
    "Analysing the tweets\n",
    "To carry out sentiment analysis on the vaccine tweets, add them to the DataLoaders as a test set:"
   ]
  },
  {
   "cell_type": "code",
   "execution_count": null,
   "id": "4c291038",
   "metadata": {},
   "outputs": [],
   "source": [
    "pred_dl = dls_clas.test_dl(vax_tweets['text'])"
   ]
  },
  {
   "cell_type": "code",
   "execution_count": null,
   "id": "db708273",
   "metadata": {},
   "outputs": [],
   "source": [
    "preds = lan_learn.get_preds(dl=pred_dl)"
   ]
  },
  {
   "cell_type": "code",
   "execution_count": null,
   "id": "18ddeaf9",
   "metadata": {},
   "outputs": [],
   "source": [
    "# Get predicted sentiment\n",
    "import matplotlib as plt\n",
    "vax_tweets['sentiment'] = preds[0].argmax(dim=-1)\n",
    "vax_tweets['sentiment'] = vax_tweets['sentiment'].map({0:'negative', 1:'neutral', 2:'positive'})\n",
    "\n",
    "# Convert dates\n",
    "vax_tweets['date'] = pd.to_datetime(vax_tweets['date'], errors='coerce').dt.date\n",
    "\n",
    "# Save to csv\n",
    "#vax_tweets.to_csv('vax_tweets_sentiment.csv')\n",
    "\n",
    "# Plot sentiment value counts\n",
    "vax_tweets['sentiment'].value_counts(normalize=True).plot.bar();"
   ]
  },
  {
   "cell_type": "code",
   "execution_count": null,
   "id": "88a34af9",
   "metadata": {},
   "outputs": [],
   "source": [
    "# Remove today's date since data is incomplete\n",
    "today = pd.Timestamp.today().date()\n",
    "vax_tweets = vax_tweets[vax_tweets['date']!=today]\n",
    "\n",
    "# Get counts of number of tweets by sentiment for each date\n",
    "timeline = vax_tweets.groupby(['date', 'sentiment']).agg(**{'tweets': ('id', 'count')}).reset_index().dropna()\n",
    "\n",
    "# Plot results\n",
    "import plotly.express as px\n",
    "fig = px.line(timeline, x='date', y='tweets', color='sentiment', category_orders={'sentiment': ['neutral', 'negative', 'positive']},\n",
    "             title='Timeline showing sentiment of tweets about COVID-19 vaccines')\n",
    "fig.show()"
   ]
  },
  {
   "cell_type": "code",
   "execution_count": null,
   "id": "f36fee54",
   "metadata": {},
   "outputs": [],
   "source": []
  }
 ],
 "metadata": {
  "kernelspec": {
   "display_name": "Python 3 (ipykernel)",
   "language": "python",
   "name": "python3"
  },
  "language_info": {
   "codemirror_mode": {
    "name": "ipython",
    "version": 3
   },
   "file_extension": ".py",
   "mimetype": "text/x-python",
   "name": "python",
   "nbconvert_exporter": "python",
   "pygments_lexer": "ipython3",
   "version": "3.7.11"
  }
 },
 "nbformat": 4,
 "nbformat_minor": 5
}
