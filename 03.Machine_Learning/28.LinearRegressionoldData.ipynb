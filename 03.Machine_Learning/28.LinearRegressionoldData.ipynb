{
 "cells": [
  {
   "cell_type": "code",
   "execution_count": 3,
   "id": "2c65196d",
   "metadata": {},
   "outputs": [],
   "source": [
    "import pandas as pd\n",
    "from sklearn.linear_model import LinearRegression"
   ]
  },
  {
   "cell_type": "code",
   "execution_count": 4,
   "id": "55d1c837",
   "metadata": {},
   "outputs": [
    {
     "data": {
      "text/html": [
       "<div>\n",
       "<style scoped>\n",
       "    .dataframe tbody tr th:only-of-type {\n",
       "        vertical-align: middle;\n",
       "    }\n",
       "\n",
       "    .dataframe tbody tr th {\n",
       "        vertical-align: top;\n",
       "    }\n",
       "\n",
       "    .dataframe thead th {\n",
       "        text-align: right;\n",
       "    }\n",
       "</style>\n",
       "<table border=\"1\" class=\"dataframe\">\n",
       "  <thead>\n",
       "    <tr style=\"text-align: right;\">\n",
       "      <th></th>\n",
       "      <th>normalized_date</th>\n",
       "      <th>Administered</th>\n",
       "      <th>textblob_agg_sentiment</th>\n",
       "      <th>nltk_agg_sentiment</th>\n",
       "      <th>Vader_agg_sentiment</th>\n",
       "    </tr>\n",
       "  </thead>\n",
       "  <tbody>\n",
       "    <tr>\n",
       "      <th>0</th>\n",
       "      <td>12/12/2020</td>\n",
       "      <td>0</td>\n",
       "      <td>266.809773</td>\n",
       "      <td>-1852.2</td>\n",
       "      <td>945</td>\n",
       "    </tr>\n",
       "    <tr>\n",
       "      <th>1</th>\n",
       "      <td>12/13/2020</td>\n",
       "      <td>0</td>\n",
       "      <td>1028.275394</td>\n",
       "      <td>-3371.2</td>\n",
       "      <td>2254</td>\n",
       "    </tr>\n",
       "    <tr>\n",
       "      <th>2</th>\n",
       "      <td>12/14/2020</td>\n",
       "      <td>0</td>\n",
       "      <td>2150.804429</td>\n",
       "      <td>-6192.4</td>\n",
       "      <td>5617</td>\n",
       "    </tr>\n",
       "    <tr>\n",
       "      <th>3</th>\n",
       "      <td>12/15/2020</td>\n",
       "      <td>0</td>\n",
       "      <td>2651.532405</td>\n",
       "      <td>-10230.0</td>\n",
       "      <td>5850</td>\n",
       "    </tr>\n",
       "    <tr>\n",
       "      <th>4</th>\n",
       "      <td>12/16/2020</td>\n",
       "      <td>1550</td>\n",
       "      <td>2293.536591</td>\n",
       "      <td>-7689.6</td>\n",
       "      <td>5040</td>\n",
       "    </tr>\n",
       "    <tr>\n",
       "      <th>...</th>\n",
       "      <td>...</td>\n",
       "      <td>...</td>\n",
       "      <td>...</td>\n",
       "      <td>...</td>\n",
       "      <td>...</td>\n",
       "    </tr>\n",
       "    <tr>\n",
       "      <th>234</th>\n",
       "      <td>8/28/2021</td>\n",
       "      <td>187527313</td>\n",
       "      <td>38893.299800</td>\n",
       "      <td>-248911.2</td>\n",
       "      <td>53480</td>\n",
       "    </tr>\n",
       "    <tr>\n",
       "      <th>235</th>\n",
       "      <td>8/29/2021</td>\n",
       "      <td>187931878</td>\n",
       "      <td>52503.885040</td>\n",
       "      <td>-275948.4</td>\n",
       "      <td>65208</td>\n",
       "    </tr>\n",
       "    <tr>\n",
       "      <th>236</th>\n",
       "      <td>8/30/2021</td>\n",
       "      <td>188210989</td>\n",
       "      <td>48787.937400</td>\n",
       "      <td>-161447.4</td>\n",
       "      <td>43947</td>\n",
       "    </tr>\n",
       "    <tr>\n",
       "      <th>237</th>\n",
       "      <td>8/31/2021</td>\n",
       "      <td>188463948</td>\n",
       "      <td>48757.989500</td>\n",
       "      <td>-161565.6</td>\n",
       "      <td>129564</td>\n",
       "    </tr>\n",
       "    <tr>\n",
       "      <th>238</th>\n",
       "      <td>9/1/2021</td>\n",
       "      <td>188923898</td>\n",
       "      <td>60993.034330</td>\n",
       "      <td>-276955.8</td>\n",
       "      <td>128238</td>\n",
       "    </tr>\n",
       "  </tbody>\n",
       "</table>\n",
       "<p>239 rows × 5 columns</p>\n",
       "</div>"
      ],
      "text/plain": [
       "    normalized_date  Administered  textblob_agg_sentiment  nltk_agg_sentiment  \\\n",
       "0        12/12/2020             0              266.809773             -1852.2   \n",
       "1        12/13/2020             0             1028.275394             -3371.2   \n",
       "2        12/14/2020             0             2150.804429             -6192.4   \n",
       "3        12/15/2020             0             2651.532405            -10230.0   \n",
       "4        12/16/2020          1550             2293.536591             -7689.6   \n",
       "..              ...           ...                     ...                 ...   \n",
       "234       8/28/2021     187527313            38893.299800           -248911.2   \n",
       "235       8/29/2021     187931878            52503.885040           -275948.4   \n",
       "236       8/30/2021     188210989            48787.937400           -161447.4   \n",
       "237       8/31/2021     188463948            48757.989500           -161565.6   \n",
       "238        9/1/2021     188923898            60993.034330           -276955.8   \n",
       "\n",
       "     Vader_agg_sentiment  \n",
       "0                    945  \n",
       "1                   2254  \n",
       "2                   5617  \n",
       "3                   5850  \n",
       "4                   5040  \n",
       "..                   ...  \n",
       "234                53480  \n",
       "235                65208  \n",
       "236                43947  \n",
       "237               129564  \n",
       "238               128238  \n",
       "\n",
       "[239 rows x 5 columns]"
      ]
     },
     "execution_count": 4,
     "metadata": {},
     "output_type": "execute_result"
    }
   ],
   "source": [
    "#df = pd.read_csv('vaccinationbydatew3sentimentolddata.csv')\n",
    "df = pd.read_csv('vaccinationbydatew3sentimentolddatawNLTK.csv')\n",
    "df"
   ]
  },
  {
   "cell_type": "code",
   "execution_count": 5,
   "id": "fe32962d",
   "metadata": {},
   "outputs": [
    {
     "data": {
      "text/html": [
       "<div>\n",
       "<style scoped>\n",
       "    .dataframe tbody tr th:only-of-type {\n",
       "        vertical-align: middle;\n",
       "    }\n",
       "\n",
       "    .dataframe tbody tr th {\n",
       "        vertical-align: top;\n",
       "    }\n",
       "\n",
       "    .dataframe thead th {\n",
       "        text-align: right;\n",
       "    }\n",
       "</style>\n",
       "<table border=\"1\" class=\"dataframe\">\n",
       "  <thead>\n",
       "    <tr style=\"text-align: right;\">\n",
       "      <th></th>\n",
       "      <th>normalized_date</th>\n",
       "      <th>Administered</th>\n",
       "      <th>textblob_agg_sentiment</th>\n",
       "      <th>nltk_agg_sentiment</th>\n",
       "      <th>Vader_agg_sentiment</th>\n",
       "    </tr>\n",
       "  </thead>\n",
       "  <tbody>\n",
       "    <tr>\n",
       "      <th>238</th>\n",
       "      <td>9/1/2021</td>\n",
       "      <td>188923898</td>\n",
       "      <td>60993.034330</td>\n",
       "      <td>-276955.8</td>\n",
       "      <td>128238</td>\n",
       "    </tr>\n",
       "    <tr>\n",
       "      <th>215</th>\n",
       "      <td>8/9/2021</td>\n",
       "      <td>179765766</td>\n",
       "      <td>119118.961600</td>\n",
       "      <td>-468241.2</td>\n",
       "      <td>310412</td>\n",
       "    </tr>\n",
       "    <tr>\n",
       "      <th>214</th>\n",
       "      <td>8/8/2021</td>\n",
       "      <td>179452814</td>\n",
       "      <td>60765.743010</td>\n",
       "      <td>-213848.6</td>\n",
       "      <td>168714</td>\n",
       "    </tr>\n",
       "    <tr>\n",
       "      <th>213</th>\n",
       "      <td>8/7/2021</td>\n",
       "      <td>178994172</td>\n",
       "      <td>40030.285050</td>\n",
       "      <td>-146565.6</td>\n",
       "      <td>117196</td>\n",
       "    </tr>\n",
       "    <tr>\n",
       "      <th>212</th>\n",
       "      <td>8/6/2021</td>\n",
       "      <td>178477208</td>\n",
       "      <td>94131.117000</td>\n",
       "      <td>-334322.8</td>\n",
       "      <td>245196</td>\n",
       "    </tr>\n",
       "    <tr>\n",
       "      <th>...</th>\n",
       "      <td>...</td>\n",
       "      <td>...</td>\n",
       "      <td>...</td>\n",
       "      <td>...</td>\n",
       "      <td>...</td>\n",
       "    </tr>\n",
       "    <tr>\n",
       "      <th>32</th>\n",
       "      <td>1/13/2021</td>\n",
       "      <td>8025521</td>\n",
       "      <td>1458.262976</td>\n",
       "      <td>-3751.8</td>\n",
       "      <td>3552</td>\n",
       "    </tr>\n",
       "    <tr>\n",
       "      <th>31</th>\n",
       "      <td>1/12/2021</td>\n",
       "      <td>7469123</td>\n",
       "      <td>2256.229885</td>\n",
       "      <td>-1484.0</td>\n",
       "      <td>5830</td>\n",
       "    </tr>\n",
       "    <tr>\n",
       "      <th>30</th>\n",
       "      <td>1/11/2021</td>\n",
       "      <td>7183660</td>\n",
       "      <td>1420.853516</td>\n",
       "      <td>-2436.6</td>\n",
       "      <td>2139</td>\n",
       "    </tr>\n",
       "    <tr>\n",
       "      <th>29</th>\n",
       "      <td>1/10/2021</td>\n",
       "      <td>6834388</td>\n",
       "      <td>1653.385786</td>\n",
       "      <td>-2643.2</td>\n",
       "      <td>4248</td>\n",
       "    </tr>\n",
       "    <tr>\n",
       "      <th>20</th>\n",
       "      <td>1/1/2021</td>\n",
       "      <td>3313983</td>\n",
       "      <td>641.879949</td>\n",
       "      <td>-3344.0</td>\n",
       "      <td>-760</td>\n",
       "    </tr>\n",
       "  </tbody>\n",
       "</table>\n",
       "<p>239 rows × 5 columns</p>\n",
       "</div>"
      ],
      "text/plain": [
       "    normalized_date  Administered  textblob_agg_sentiment  nltk_agg_sentiment  \\\n",
       "238        9/1/2021     188923898            60993.034330           -276955.8   \n",
       "215        8/9/2021     179765766           119118.961600           -468241.2   \n",
       "214        8/8/2021     179452814            60765.743010           -213848.6   \n",
       "213        8/7/2021     178994172            40030.285050           -146565.6   \n",
       "212        8/6/2021     178477208            94131.117000           -334322.8   \n",
       "..              ...           ...                     ...                 ...   \n",
       "32        1/13/2021       8025521             1458.262976             -3751.8   \n",
       "31        1/12/2021       7469123             2256.229885             -1484.0   \n",
       "30        1/11/2021       7183660             1420.853516             -2436.6   \n",
       "29        1/10/2021       6834388             1653.385786             -2643.2   \n",
       "20         1/1/2021       3313983              641.879949             -3344.0   \n",
       "\n",
       "     Vader_agg_sentiment  \n",
       "238               128238  \n",
       "215               310412  \n",
       "214               168714  \n",
       "213               117196  \n",
       "212               245196  \n",
       "..                   ...  \n",
       "32                  3552  \n",
       "31                  5830  \n",
       "30                  2139  \n",
       "29                  4248  \n",
       "20                  -760  \n",
       "\n",
       "[239 rows x 5 columns]"
      ]
     },
     "execution_count": 5,
     "metadata": {},
     "output_type": "execute_result"
    }
   ],
   "source": [
    "df.sort_values(by = 'normalized_date',ascending = False, inplace=True)\n",
    "df"
   ]
  },
  {
   "cell_type": "code",
   "execution_count": 6,
   "id": "9e965fb2",
   "metadata": {},
   "outputs": [],
   "source": [
    "# c = [n-nn for n,nn in zip(df['Administered'],df['Administered'][1:]+[0])]\n",
    "# c.append(0)"
   ]
  },
  {
   "cell_type": "code",
   "execution_count": 7,
   "id": "286a218b",
   "metadata": {},
   "outputs": [],
   "source": [
    "# c"
   ]
  },
  {
   "cell_type": "code",
   "execution_count": 8,
   "id": "c655ca55",
   "metadata": {},
   "outputs": [],
   "source": [
    "# df['AdministeredbyDay'] = c"
   ]
  },
  {
   "cell_type": "code",
   "execution_count": 9,
   "id": "c9290df5",
   "metadata": {},
   "outputs": [
    {
     "data": {
      "text/html": [
       "<div>\n",
       "<style scoped>\n",
       "    .dataframe tbody tr th:only-of-type {\n",
       "        vertical-align: middle;\n",
       "    }\n",
       "\n",
       "    .dataframe tbody tr th {\n",
       "        vertical-align: top;\n",
       "    }\n",
       "\n",
       "    .dataframe thead th {\n",
       "        text-align: right;\n",
       "    }\n",
       "</style>\n",
       "<table border=\"1\" class=\"dataframe\">\n",
       "  <thead>\n",
       "    <tr style=\"text-align: right;\">\n",
       "      <th></th>\n",
       "      <th>normalized_date</th>\n",
       "      <th>Administered</th>\n",
       "      <th>textblob_agg_sentiment</th>\n",
       "      <th>nltk_agg_sentiment</th>\n",
       "      <th>Vader_agg_sentiment</th>\n",
       "    </tr>\n",
       "  </thead>\n",
       "  <tbody>\n",
       "    <tr>\n",
       "      <th>238</th>\n",
       "      <td>9/1/2021</td>\n",
       "      <td>188923898</td>\n",
       "      <td>60993.034330</td>\n",
       "      <td>-276955.8</td>\n",
       "      <td>128238</td>\n",
       "    </tr>\n",
       "    <tr>\n",
       "      <th>215</th>\n",
       "      <td>8/9/2021</td>\n",
       "      <td>179765766</td>\n",
       "      <td>119118.961600</td>\n",
       "      <td>-468241.2</td>\n",
       "      <td>310412</td>\n",
       "    </tr>\n",
       "    <tr>\n",
       "      <th>214</th>\n",
       "      <td>8/8/2021</td>\n",
       "      <td>179452814</td>\n",
       "      <td>60765.743010</td>\n",
       "      <td>-213848.6</td>\n",
       "      <td>168714</td>\n",
       "    </tr>\n",
       "    <tr>\n",
       "      <th>213</th>\n",
       "      <td>8/7/2021</td>\n",
       "      <td>178994172</td>\n",
       "      <td>40030.285050</td>\n",
       "      <td>-146565.6</td>\n",
       "      <td>117196</td>\n",
       "    </tr>\n",
       "    <tr>\n",
       "      <th>212</th>\n",
       "      <td>8/6/2021</td>\n",
       "      <td>178477208</td>\n",
       "      <td>94131.117000</td>\n",
       "      <td>-334322.8</td>\n",
       "      <td>245196</td>\n",
       "    </tr>\n",
       "    <tr>\n",
       "      <th>...</th>\n",
       "      <td>...</td>\n",
       "      <td>...</td>\n",
       "      <td>...</td>\n",
       "      <td>...</td>\n",
       "      <td>...</td>\n",
       "    </tr>\n",
       "    <tr>\n",
       "      <th>32</th>\n",
       "      <td>1/13/2021</td>\n",
       "      <td>8025521</td>\n",
       "      <td>1458.262976</td>\n",
       "      <td>-3751.8</td>\n",
       "      <td>3552</td>\n",
       "    </tr>\n",
       "    <tr>\n",
       "      <th>31</th>\n",
       "      <td>1/12/2021</td>\n",
       "      <td>7469123</td>\n",
       "      <td>2256.229885</td>\n",
       "      <td>-1484.0</td>\n",
       "      <td>5830</td>\n",
       "    </tr>\n",
       "    <tr>\n",
       "      <th>30</th>\n",
       "      <td>1/11/2021</td>\n",
       "      <td>7183660</td>\n",
       "      <td>1420.853516</td>\n",
       "      <td>-2436.6</td>\n",
       "      <td>2139</td>\n",
       "    </tr>\n",
       "    <tr>\n",
       "      <th>29</th>\n",
       "      <td>1/10/2021</td>\n",
       "      <td>6834388</td>\n",
       "      <td>1653.385786</td>\n",
       "      <td>-2643.2</td>\n",
       "      <td>4248</td>\n",
       "    </tr>\n",
       "    <tr>\n",
       "      <th>20</th>\n",
       "      <td>1/1/2021</td>\n",
       "      <td>3313983</td>\n",
       "      <td>641.879949</td>\n",
       "      <td>-3344.0</td>\n",
       "      <td>-760</td>\n",
       "    </tr>\n",
       "  </tbody>\n",
       "</table>\n",
       "<p>239 rows × 5 columns</p>\n",
       "</div>"
      ],
      "text/plain": [
       "    normalized_date  Administered  textblob_agg_sentiment  nltk_agg_sentiment  \\\n",
       "238        9/1/2021     188923898            60993.034330           -276955.8   \n",
       "215        8/9/2021     179765766           119118.961600           -468241.2   \n",
       "214        8/8/2021     179452814            60765.743010           -213848.6   \n",
       "213        8/7/2021     178994172            40030.285050           -146565.6   \n",
       "212        8/6/2021     178477208            94131.117000           -334322.8   \n",
       "..              ...           ...                     ...                 ...   \n",
       "32        1/13/2021       8025521             1458.262976             -3751.8   \n",
       "31        1/12/2021       7469123             2256.229885             -1484.0   \n",
       "30        1/11/2021       7183660             1420.853516             -2436.6   \n",
       "29        1/10/2021       6834388             1653.385786             -2643.2   \n",
       "20         1/1/2021       3313983              641.879949             -3344.0   \n",
       "\n",
       "     Vader_agg_sentiment  \n",
       "238               128238  \n",
       "215               310412  \n",
       "214               168714  \n",
       "213               117196  \n",
       "212               245196  \n",
       "..                   ...  \n",
       "32                  3552  \n",
       "31                  5830  \n",
       "30                  2139  \n",
       "29                  4248  \n",
       "20                  -760  \n",
       "\n",
       "[239 rows x 5 columns]"
      ]
     },
     "execution_count": 9,
     "metadata": {},
     "output_type": "execute_result"
    }
   ],
   "source": [
    "df"
   ]
  },
  {
   "cell_type": "code",
   "execution_count": null,
   "id": "3c3b32fa",
   "metadata": {},
   "outputs": [],
   "source": []
  },
  {
   "cell_type": "code",
   "execution_count": null,
   "id": "c9404fdc",
   "metadata": {},
   "outputs": [],
   "source": []
  },
  {
   "cell_type": "code",
   "execution_count": 10,
   "id": "56d5f483",
   "metadata": {},
   "outputs": [],
   "source": [
    "X = df.loc[:,['textblob_agg_sentiment','nltk_agg_sentiment','Vader_agg_sentiment']]\n",
    "y= df['Administered']"
   ]
  },
  {
   "cell_type": "code",
   "execution_count": 11,
   "id": "f168c1bc",
   "metadata": {},
   "outputs": [
    {
     "data": {
      "text/plain": [
       "(239,)"
      ]
     },
     "execution_count": 11,
     "metadata": {},
     "output_type": "execute_result"
    }
   ],
   "source": [
    "y.shape"
   ]
  },
  {
   "cell_type": "code",
   "execution_count": 12,
   "id": "0777fa15",
   "metadata": {},
   "outputs": [],
   "source": [
    "model = LinearRegression()"
   ]
  },
  {
   "cell_type": "code",
   "execution_count": 13,
   "id": "88e64ec2",
   "metadata": {},
   "outputs": [
    {
     "data": {
      "text/plain": [
       "LinearRegression()"
      ]
     },
     "execution_count": 13,
     "metadata": {},
     "output_type": "execute_result"
    }
   ],
   "source": [
    "model.fit(X, y)"
   ]
  },
  {
   "cell_type": "code",
   "execution_count": 14,
   "id": "8942ed56",
   "metadata": {},
   "outputs": [
    {
     "data": {
      "text/plain": [
       "array([  3.10785065, -40.93119384,   4.79712418])"
      ]
     },
     "execution_count": 14,
     "metadata": {},
     "output_type": "execute_result"
    }
   ],
   "source": [
    "model.coef_"
   ]
  },
  {
   "cell_type": "code",
   "execution_count": 15,
   "id": "8908d4f4",
   "metadata": {},
   "outputs": [
    {
     "data": {
      "text/plain": [
       "81458045.20718002"
      ]
     },
     "execution_count": 15,
     "metadata": {},
     "output_type": "execute_result"
    }
   ],
   "source": [
    "model.intercept_"
   ]
  },
  {
   "cell_type": "code",
   "execution_count": 16,
   "id": "8745ccd2",
   "metadata": {},
   "outputs": [
    {
     "data": {
      "text/plain": [
       "0.17427042918840685"
      ]
     },
     "execution_count": 16,
     "metadata": {},
     "output_type": "execute_result"
    }
   ],
   "source": [
    "model.score(X,y)"
   ]
  },
  {
   "cell_type": "code",
   "execution_count": 17,
   "id": "ed32a793",
   "metadata": {},
   "outputs": [
    {
     "name": "stdout",
     "output_type": "stream",
     "text": [
      "                            OLS Regression Results                            \n",
      "==============================================================================\n",
      "Dep. Variable:           Administered   R-squared:                       0.174\n",
      "Model:                            OLS   Adj. R-squared:                  0.164\n",
      "Method:                 Least Squares   F-statistic:                     16.53\n",
      "Date:                Sun, 19 Sep 2021   Prob (F-statistic):           8.84e-10\n",
      "Time:                        13:16:13   Log-Likelihood:                -4628.4\n",
      "No. Observations:                 239   AIC:                             9265.\n",
      "Df Residuals:                     235   BIC:                             9279.\n",
      "Df Model:                           3                                         \n",
      "Covariance Type:            nonrobust                                         \n",
      "==========================================================================================\n",
      "                             coef    std err          t      P>|t|      [0.025      0.975]\n",
      "------------------------------------------------------------------------------------------\n",
      "const                   8.146e+07    4.9e+06     16.610      0.000    7.18e+07    9.11e+07\n",
      "textblob_agg_sentiment     3.1079     42.384      0.073      0.942     -80.393      86.609\n",
      "nltk_agg_sentiment       -40.9312      9.201     -4.449      0.000     -59.058     -22.805\n",
      "Vader_agg_sentiment        4.7971     22.695      0.211      0.833     -39.915      49.509\n",
      "==============================================================================\n",
      "Omnibus:                      358.931   Durbin-Watson:                   0.305\n",
      "Prob(Omnibus):                  0.000   Jarque-Bera (JB):               18.473\n",
      "Skew:                           0.100   Prob(JB):                     9.74e-05\n",
      "Kurtosis:                       1.653   Cond. No.                     1.01e+06\n",
      "==============================================================================\n",
      "\n",
      "Notes:\n",
      "[1] Standard Errors assume that the covariance matrix of the errors is correctly specified.\n",
      "[2] The condition number is large, 1.01e+06. This might indicate that there are\n",
      "strong multicollinearity or other numerical problems.\n"
     ]
    },
    {
     "name": "stderr",
     "output_type": "stream",
     "text": [
      "C:\\Users\\Christopher\\anaconda3\\envs\\mlenv\\lib\\site-packages\\statsmodels\\tsa\\tsatools.py:142: FutureWarning: In a future version of pandas all arguments of concat except for the argument 'objs' will be keyword-only\n",
      "  x = pd.concat(x[::order], 1)\n"
     ]
    }
   ],
   "source": [
    "\n",
    "##https://stackoverflow.com/questions/27928275/find-p-value-significance-in-scikit-learn-linearregression\n",
    "import statsmodels.api as sm\n",
    "X2 = sm.add_constant(X)\n",
    "est = sm.OLS(y, X2)\n",
    "est2 = est.fit()\n",
    "print(est2.summary())"
   ]
  },
  {
   "cell_type": "code",
   "execution_count": null,
   "id": "4c0ed940",
   "metadata": {},
   "outputs": [],
   "source": []
  }
 ],
 "metadata": {
  "kernelspec": {
   "display_name": "mlenv",
   "language": "python",
   "name": "mlenv"
  },
  "language_info": {
   "codemirror_mode": {
    "name": "ipython",
    "version": 3
   },
   "file_extension": ".py",
   "mimetype": "text/x-python",
   "name": "python",
   "nbconvert_exporter": "python",
   "pygments_lexer": "ipython3",
   "version": "3.8.8"
  }
 },
 "nbformat": 4,
 "nbformat_minor": 5
}
