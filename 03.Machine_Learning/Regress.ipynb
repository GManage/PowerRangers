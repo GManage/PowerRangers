{
 "cells": [
  {
   "cell_type": "markdown",
   "metadata": {},
   "source": [
    "# Twitter Sentiment Analysis notebook\n",
    "- Use sentiment anaylsis library to create target variable, Score\n",
    "- Train multi class logistic regression model"
   ]
  },
  {
   "cell_type": "markdown",
   "metadata": {},
   "source": [
    "#### Installing libraries"
   ]
  },
  {
   "cell_type": "code",
   "execution_count": 3,
   "metadata": {},
   "outputs": [
    {
     "name": "stdout",
     "output_type": "stream",
     "text": [
      "Requirement already satisfied: tweepy in /opt/anaconda3/lib/python3.8/site-packages (3.10.0)\n",
      "Requirement already satisfied: requests[socks]>=2.11.1 in /opt/anaconda3/lib/python3.8/site-packages (from tweepy) (2.24.0)\n",
      "Requirement already satisfied: six>=1.10.0 in /opt/anaconda3/lib/python3.8/site-packages (from tweepy) (1.15.0)\n",
      "Requirement already satisfied: requests-oauthlib>=0.7.0 in /opt/anaconda3/lib/python3.8/site-packages (from tweepy) (1.3.0)\n",
      "Requirement already satisfied: idna<3,>=2.5 in /opt/anaconda3/lib/python3.8/site-packages (from requests[socks]>=2.11.1->tweepy) (2.10)\n",
      "Requirement already satisfied: certifi>=2017.4.17 in /opt/anaconda3/lib/python3.8/site-packages (from requests[socks]>=2.11.1->tweepy) (2020.6.20)\n",
      "Requirement already satisfied: chardet<4,>=3.0.2 in /opt/anaconda3/lib/python3.8/site-packages (from requests[socks]>=2.11.1->tweepy) (3.0.4)\n",
      "Requirement already satisfied: urllib3!=1.25.0,!=1.25.1,<1.26,>=1.21.1 in /opt/anaconda3/lib/python3.8/site-packages (from requests[socks]>=2.11.1->tweepy) (1.25.11)\n",
      "Requirement already satisfied: PySocks!=1.5.7,>=1.5.6; extra == \"socks\" in /opt/anaconda3/lib/python3.8/site-packages (from requests[socks]>=2.11.1->tweepy) (1.7.1)\n",
      "Requirement already satisfied: oauthlib>=3.0.0 in /opt/anaconda3/lib/python3.8/site-packages (from requests-oauthlib>=0.7.0->tweepy) (3.1.1)\n"
     ]
    }
   ],
   "source": [
    "\n",
    "!pip install tweepy"
   ]
  },
  {
   "cell_type": "code",
   "execution_count": 4,
   "metadata": {},
   "outputs": [
    {
     "name": "stdout",
     "output_type": "stream",
     "text": [
      "Requirement already satisfied: textblob in /opt/anaconda3/lib/python3.8/site-packages (0.15.3)\n",
      "Requirement already satisfied: nltk>=3.1 in /opt/anaconda3/lib/python3.8/site-packages (from textblob) (3.5)\n",
      "Requirement already satisfied: regex in /opt/anaconda3/lib/python3.8/site-packages (from nltk>=3.1->textblob) (2020.10.15)\n",
      "Requirement already satisfied: tqdm in /opt/anaconda3/lib/python3.8/site-packages (from nltk>=3.1->textblob) (4.50.2)\n",
      "Requirement already satisfied: click in /opt/anaconda3/lib/python3.8/site-packages (from nltk>=3.1->textblob) (7.1.2)\n",
      "Requirement already satisfied: joblib in /opt/anaconda3/lib/python3.8/site-packages (from nltk>=3.1->textblob) (0.17.0)\n"
     ]
    }
   ],
   "source": [
    "!pip install textblob"
   ]
  },
  {
   "cell_type": "code",
   "execution_count": 5,
   "metadata": {},
   "outputs": [
    {
     "name": "stdout",
     "output_type": "stream",
     "text": [
      "Collecting wordcloud\n",
      "  Downloading wordcloud-1.8.1.tar.gz (220 kB)\n",
      "\u001b[K     |████████████████████████████████| 220 kB 775 kB/s eta 0:00:01\n",
      "\u001b[?25hRequirement already satisfied: numpy>=1.6.1 in /opt/anaconda3/lib/python3.8/site-packages (from wordcloud) (1.19.2)\n",
      "Requirement already satisfied: pillow in /opt/anaconda3/lib/python3.8/site-packages (from wordcloud) (8.0.1)\n",
      "Requirement already satisfied: matplotlib in /opt/anaconda3/lib/python3.8/site-packages (from wordcloud) (3.3.2)\n",
      "Requirement already satisfied: cycler>=0.10 in /opt/anaconda3/lib/python3.8/site-packages (from matplotlib->wordcloud) (0.10.0)\n",
      "Requirement already satisfied: certifi>=2020.06.20 in /opt/anaconda3/lib/python3.8/site-packages (from matplotlib->wordcloud) (2020.6.20)\n",
      "Requirement already satisfied: pyparsing!=2.0.4,!=2.1.2,!=2.1.6,>=2.0.3 in /opt/anaconda3/lib/python3.8/site-packages (from matplotlib->wordcloud) (2.4.7)\n",
      "Requirement already satisfied: kiwisolver>=1.0.1 in /opt/anaconda3/lib/python3.8/site-packages (from matplotlib->wordcloud) (1.3.0)\n",
      "Requirement already satisfied: python-dateutil>=2.1 in /opt/anaconda3/lib/python3.8/site-packages (from matplotlib->wordcloud) (2.8.1)\n",
      "Requirement already satisfied: six in /opt/anaconda3/lib/python3.8/site-packages (from cycler>=0.10->matplotlib->wordcloud) (1.15.0)\n",
      "Building wheels for collected packages: wordcloud\n",
      "  Building wheel for wordcloud (setup.py) ... \u001b[?25lerror\n",
      "\u001b[31m  ERROR: Command errored out with exit status 1:\n",
      "   command: /opt/anaconda3/bin/python -u -c 'import sys, setuptools, tokenize; sys.argv[0] = '\"'\"'/private/var/folders/25/_g6tp6_j4bz5_bmw9f8k1n5w0000gn/T/pip-install-qhqtjtvs/wordcloud/setup.py'\"'\"'; __file__='\"'\"'/private/var/folders/25/_g6tp6_j4bz5_bmw9f8k1n5w0000gn/T/pip-install-qhqtjtvs/wordcloud/setup.py'\"'\"';f=getattr(tokenize, '\"'\"'open'\"'\"', open)(__file__);code=f.read().replace('\"'\"'\\r\\n'\"'\"', '\"'\"'\\n'\"'\"');f.close();exec(compile(code, __file__, '\"'\"'exec'\"'\"'))' bdist_wheel -d /private/var/folders/25/_g6tp6_j4bz5_bmw9f8k1n5w0000gn/T/pip-wheel-uee9p0h1\n",
      "       cwd: /private/var/folders/25/_g6tp6_j4bz5_bmw9f8k1n5w0000gn/T/pip-install-qhqtjtvs/wordcloud/\n",
      "  Complete output (24 lines):\n",
      "  running bdist_wheel\n",
      "  running build\n",
      "  running build_py\n",
      "  creating build\n",
      "  creating build/lib.macosx-10.9-x86_64-3.8\n",
      "  creating build/lib.macosx-10.9-x86_64-3.8/wordcloud\n",
      "  copying wordcloud/wordcloud_cli.py -> build/lib.macosx-10.9-x86_64-3.8/wordcloud\n",
      "  copying wordcloud/_version.py -> build/lib.macosx-10.9-x86_64-3.8/wordcloud\n",
      "  copying wordcloud/__init__.py -> build/lib.macosx-10.9-x86_64-3.8/wordcloud\n",
      "  copying wordcloud/tokenization.py -> build/lib.macosx-10.9-x86_64-3.8/wordcloud\n",
      "  copying wordcloud/wordcloud.py -> build/lib.macosx-10.9-x86_64-3.8/wordcloud\n",
      "  copying wordcloud/color_from_image.py -> build/lib.macosx-10.9-x86_64-3.8/wordcloud\n",
      "  copying wordcloud/__main__.py -> build/lib.macosx-10.9-x86_64-3.8/wordcloud\n",
      "  copying wordcloud/stopwords -> build/lib.macosx-10.9-x86_64-3.8/wordcloud\n",
      "  copying wordcloud/DroidSansMono.ttf -> build/lib.macosx-10.9-x86_64-3.8/wordcloud\n",
      "  UPDATING build/lib.macosx-10.9-x86_64-3.8/wordcloud/_version.py\n",
      "  set build/lib.macosx-10.9-x86_64-3.8/wordcloud/_version.py to '1.8.1'\n",
      "  running build_ext\n",
      "  building 'wordcloud.query_integral_image' extension\n",
      "  creating build/temp.macosx-10.9-x86_64-3.8\n",
      "  creating build/temp.macosx-10.9-x86_64-3.8/wordcloud\n",
      "  gcc -Wno-unused-result -Wsign-compare -Wunreachable-code -DNDEBUG -g -fwrapv -O3 -Wall -Wstrict-prototypes -I/opt/anaconda3/include -arch x86_64 -I/opt/anaconda3/include -arch x86_64 -I/opt/anaconda3/include/python3.8 -c wordcloud/query_integral_image.c -o build/temp.macosx-10.9-x86_64-3.8/wordcloud/query_integral_image.o\n",
      "  xcrun: error: invalid active developer path (/Library/Developer/CommandLineTools), missing xcrun at: /Library/Developer/CommandLineTools/usr/bin/xcrun\n",
      "  error: command 'gcc' failed with exit status 1\n",
      "  ----------------------------------------\u001b[0m\n",
      "\u001b[31m  ERROR: Failed building wheel for wordcloud\u001b[0m\n",
      "\u001b[?25h  Running setup.py clean for wordcloud\n",
      "Failed to build wordcloud\n",
      "Installing collected packages: wordcloud\n",
      "    Running setup.py install for wordcloud ... \u001b[?25lerror\n",
      "\u001b[31m    ERROR: Command errored out with exit status 1:\n",
      "     command: /opt/anaconda3/bin/python -u -c 'import sys, setuptools, tokenize; sys.argv[0] = '\"'\"'/private/var/folders/25/_g6tp6_j4bz5_bmw9f8k1n5w0000gn/T/pip-install-qhqtjtvs/wordcloud/setup.py'\"'\"'; __file__='\"'\"'/private/var/folders/25/_g6tp6_j4bz5_bmw9f8k1n5w0000gn/T/pip-install-qhqtjtvs/wordcloud/setup.py'\"'\"';f=getattr(tokenize, '\"'\"'open'\"'\"', open)(__file__);code=f.read().replace('\"'\"'\\r\\n'\"'\"', '\"'\"'\\n'\"'\"');f.close();exec(compile(code, __file__, '\"'\"'exec'\"'\"'))' install --record /private/var/folders/25/_g6tp6_j4bz5_bmw9f8k1n5w0000gn/T/pip-record-hd8a4d88/install-record.txt --single-version-externally-managed --compile --install-headers /opt/anaconda3/include/python3.8/wordcloud\n",
      "         cwd: /private/var/folders/25/_g6tp6_j4bz5_bmw9f8k1n5w0000gn/T/pip-install-qhqtjtvs/wordcloud/\n",
      "    Complete output (24 lines):\n",
      "    running install\n",
      "    running build\n",
      "    running build_py\n",
      "    creating build\n",
      "    creating build/lib.macosx-10.9-x86_64-3.8\n",
      "    creating build/lib.macosx-10.9-x86_64-3.8/wordcloud\n",
      "    copying wordcloud/wordcloud_cli.py -> build/lib.macosx-10.9-x86_64-3.8/wordcloud\n",
      "    copying wordcloud/_version.py -> build/lib.macosx-10.9-x86_64-3.8/wordcloud\n",
      "    copying wordcloud/__init__.py -> build/lib.macosx-10.9-x86_64-3.8/wordcloud\n",
      "    copying wordcloud/tokenization.py -> build/lib.macosx-10.9-x86_64-3.8/wordcloud\n",
      "    copying wordcloud/wordcloud.py -> build/lib.macosx-10.9-x86_64-3.8/wordcloud\n",
      "    copying wordcloud/color_from_image.py -> build/lib.macosx-10.9-x86_64-3.8/wordcloud\n",
      "    copying wordcloud/__main__.py -> build/lib.macosx-10.9-x86_64-3.8/wordcloud\n",
      "    copying wordcloud/stopwords -> build/lib.macosx-10.9-x86_64-3.8/wordcloud\n",
      "    copying wordcloud/DroidSansMono.ttf -> build/lib.macosx-10.9-x86_64-3.8/wordcloud\n",
      "    UPDATING build/lib.macosx-10.9-x86_64-3.8/wordcloud/_version.py\n",
      "    set build/lib.macosx-10.9-x86_64-3.8/wordcloud/_version.py to '1.8.1'\n",
      "    running build_ext\n",
      "    building 'wordcloud.query_integral_image' extension\n",
      "    creating build/temp.macosx-10.9-x86_64-3.8\n",
      "    creating build/temp.macosx-10.9-x86_64-3.8/wordcloud\n",
      "    gcc -Wno-unused-result -Wsign-compare -Wunreachable-code -DNDEBUG -g -fwrapv -O3 -Wall -Wstrict-prototypes -I/opt/anaconda3/include -arch x86_64 -I/opt/anaconda3/include -arch x86_64 -I/opt/anaconda3/include/python3.8 -c wordcloud/query_integral_image.c -o build/temp.macosx-10.9-x86_64-3.8/wordcloud/query_integral_image.o\n",
      "    xcrun: error: invalid active developer path (/Library/Developer/CommandLineTools), missing xcrun at: /Library/Developer/CommandLineTools/usr/bin/xcrun\n",
      "    error: command 'gcc' failed with exit status 1\n",
      "    ----------------------------------------\u001b[0m\n",
      "\u001b[31mERROR: Command errored out with exit status 1: /opt/anaconda3/bin/python -u -c 'import sys, setuptools, tokenize; sys.argv[0] = '\"'\"'/private/var/folders/25/_g6tp6_j4bz5_bmw9f8k1n5w0000gn/T/pip-install-qhqtjtvs/wordcloud/setup.py'\"'\"'; __file__='\"'\"'/private/var/folders/25/_g6tp6_j4bz5_bmw9f8k1n5w0000gn/T/pip-install-qhqtjtvs/wordcloud/setup.py'\"'\"';f=getattr(tokenize, '\"'\"'open'\"'\"', open)(__file__);code=f.read().replace('\"'\"'\\r\\n'\"'\"', '\"'\"'\\n'\"'\"');f.close();exec(compile(code, __file__, '\"'\"'exec'\"'\"'))' install --record /private/var/folders/25/_g6tp6_j4bz5_bmw9f8k1n5w0000gn/T/pip-record-hd8a4d88/install-record.txt --single-version-externally-managed --compile --install-headers /opt/anaconda3/include/python3.8/wordcloud Check the logs for full command output.\u001b[0m\n",
      "\u001b[?25h"
     ]
    }
   ],
   "source": [
    "!pip install wordcloud\n"
   ]
  },
  {
   "cell_type": "markdown",
   "metadata": {},
   "source": [
    "### Libraries"
   ]
  },
  {
   "cell_type": "code",
   "execution_count": 7,
   "metadata": {},
   "outputs": [
    {
     "ename": "ModuleNotFoundError",
     "evalue": "No module named 'wordcloud'",
     "output_type": "error",
     "traceback": [
      "\u001b[0;31m---------------------------------------------------------------------------\u001b[0m",
      "\u001b[0;31mModuleNotFoundError\u001b[0m                       Traceback (most recent call last)",
      "\u001b[0;32m<ipython-input-7-9d2f12765b61>\u001b[0m in \u001b[0;36m<module>\u001b[0;34m\u001b[0m\n\u001b[1;32m     27\u001b[0m \u001b[0;34m\u001b[0m\u001b[0m\n\u001b[1;32m     28\u001b[0m \u001b[0;31m# WordCloud - Python linrary for creating image wordclouds\u001b[0m\u001b[0;34m\u001b[0m\u001b[0;34m\u001b[0m\u001b[0;34m\u001b[0m\u001b[0m\n\u001b[0;32m---> 29\u001b[0;31m \u001b[0;32mfrom\u001b[0m \u001b[0mwordcloud\u001b[0m \u001b[0;32mimport\u001b[0m \u001b[0mWordCloud\u001b[0m\u001b[0;34m\u001b[0m\u001b[0;34m\u001b[0m\u001b[0m\n\u001b[0m\u001b[1;32m     30\u001b[0m \u001b[0;34m\u001b[0m\u001b[0m\n\u001b[1;32m     31\u001b[0m \u001b[0;32mfrom\u001b[0m \u001b[0msklearn\u001b[0m\u001b[0;34m.\u001b[0m\u001b[0mlinear_model\u001b[0m \u001b[0;32mimport\u001b[0m \u001b[0mLogisticRegression\u001b[0m\u001b[0;34m\u001b[0m\u001b[0;34m\u001b[0m\u001b[0m\n",
      "\u001b[0;31mModuleNotFoundError\u001b[0m: No module named 'wordcloud'"
     ]
    }
   ],
   "source": [
    "import pandas as pd\n",
    "import numpy as np\n",
    "import seaborn as sns                       #visualisation\n",
    "import matplotlib.pyplot as plt             #visualisation\n",
    "from datetime import datetime\n",
    "from pathlib import Path\n",
    "from itertools import combinations\n",
    "\n",
    "from sklearn.cluster import KMeans\n",
    "from sklearn.preprocessing import OneHotEncoder\n",
    "from sklearn.feature_extraction.text import CountVectorizer\n",
    "from sklearn.feature_extraction.text import TfidfVectorizer\n",
    "from sklearn import metrics\n",
    "from sklearn import model_selection\n",
    "\n",
    "\n",
    "import statsmodels.api as sm\n",
    "\n",
    "from scipy.stats import chi2_contingency\n",
    "from statsmodels.sandbox.stats.multicomp import multipletests \n",
    "\n",
    "# Tweepy - Python library for accessing the Twitter API.\n",
    "import tweepy\n",
    "\n",
    "# TextBlob - Python library for processing textual data\n",
    "from textblob import TextBlob\n",
    "\n",
    "# WordCloud - Python linrary for creating image wordclouds\n",
    "from wordcloud import WordCloud\n",
    "\n",
    "from sklearn.linear_model import LogisticRegression\n",
    "from sklearn.ensemble import RandomForestClassifier # model\n",
    "from sklearn.model_selection import RandomizedSearchCV\n",
    "from sklearn.metrics import make_scorer, accuracy_score, precision_score, recall_score, f1_score\n",
    "\n",
    "#Regex\n",
    "import re\n",
    "\n",
    "%matplotlib inline     \n",
    "sns.set(color_codes=True)"
   ]
  },
  {
   "cell_type": "markdown",
   "metadata": {},
   "source": [
    "### File Paths"
   ]
  },
  {
   "cell_type": "code",
   "execution_count": null,
   "metadata": {},
   "outputs": [],
   "source": [
    "today                   = datetime.today()\n",
    "file_path       = Path.cwd() /\"covid_vaccine_090721.csv\""
   ]
  },
  {
   "cell_type": "markdown",
   "metadata": {},
   "source": [
    "### Loading the data into Pandas dataframe"
   ]
  },
  {
   "cell_type": "code",
   "execution_count": 7,
   "metadata": {},
   "outputs": [
    {
     "data": {
      "text/html": [
       "<div>\n",
       "<style scoped>\n",
       "    .dataframe tbody tr th:only-of-type {\n",
       "        vertical-align: middle;\n",
       "    }\n",
       "\n",
       "    .dataframe tbody tr th {\n",
       "        vertical-align: top;\n",
       "    }\n",
       "\n",
       "    .dataframe thead th {\n",
       "        text-align: right;\n",
       "    }\n",
       "</style>\n",
       "<table border=\"1\" class=\"dataframe\">\n",
       "  <thead>\n",
       "    <tr style=\"text-align: right;\">\n",
       "      <th></th>\n",
       "      <th>user_name</th>\n",
       "      <th>user_location</th>\n",
       "      <th>user_description</th>\n",
       "      <th>user_created</th>\n",
       "      <th>user_followers</th>\n",
       "      <th>user_friends</th>\n",
       "      <th>user_favourites</th>\n",
       "      <th>user_verified</th>\n",
       "      <th>date</th>\n",
       "      <th>text</th>\n",
       "      <th>hashtags</th>\n",
       "      <th>source</th>\n",
       "      <th>is_retweet</th>\n",
       "    </tr>\n",
       "  </thead>\n",
       "  <tbody>\n",
       "    <tr>\n",
       "      <th>0</th>\n",
       "      <td>NSW Multicultural Health Communication Service</td>\n",
       "      <td>NaN</td>\n",
       "      <td>Official account for NSW Multicultural Health ...</td>\n",
       "      <td>2018-08-20 02:00:05</td>\n",
       "      <td>1277</td>\n",
       "      <td>243</td>\n",
       "      <td>2311</td>\n",
       "      <td>True</td>\n",
       "      <td>2021-09-06 23:55:48</td>\n",
       "      <td>“Please get vaccinated. Take COVID seriously. ...</td>\n",
       "      <td>NaN</td>\n",
       "      <td>TweetDeck</td>\n",
       "      <td>False</td>\n",
       "    </tr>\n",
       "    <tr>\n",
       "      <th>1</th>\n",
       "      <td>Climate Detective</td>\n",
       "      <td>NaN</td>\n",
       "      <td>Physicist (MA &amp; PhD) &amp; socialist exploring cli...</td>\n",
       "      <td>2020-11-07 17:03:33</td>\n",
       "      <td>94</td>\n",
       "      <td>155</td>\n",
       "      <td>354</td>\n",
       "      <td>False</td>\n",
       "      <td>2021-09-06 23:46:16</td>\n",
       "      <td>@apsmunro That is a lot more than the risk fro...</td>\n",
       "      <td>['CovidVaccine']</td>\n",
       "      <td>Twitter Web App</td>\n",
       "      <td>False</td>\n",
       "    </tr>\n",
       "    <tr>\n",
       "      <th>2</th>\n",
       "      <td>david sirias</td>\n",
       "      <td>Port Townsend, WA</td>\n",
       "      <td>Lefty songwriter/musician/producer/publisher. ...</td>\n",
       "      <td>2011-10-28 20:14:55</td>\n",
       "      <td>1262</td>\n",
       "      <td>1115</td>\n",
       "      <td>489</td>\n",
       "      <td>False</td>\n",
       "      <td>2021-09-06 23:38:34</td>\n",
       "      <td>As I said months ago, anyone supporting a blan...</td>\n",
       "      <td>['FascistEmployerMandate', 'FascistVaccinePass...</td>\n",
       "      <td>Twitter for iPad</td>\n",
       "      <td>False</td>\n",
       "    </tr>\n",
       "    <tr>\n",
       "      <th>3</th>\n",
       "      <td>COVID News</td>\n",
       "      <td>Estados Unidos</td>\n",
       "      <td>News about COVID-19</td>\n",
       "      <td>2013-06-05 08:52:31</td>\n",
       "      <td>3330</td>\n",
       "      <td>1472</td>\n",
       "      <td>130</td>\n",
       "      <td>False</td>\n",
       "      <td>2021-09-06 23:36:50</td>\n",
       "      <td>More crazy Chiropractors!!! This time in Flori...</td>\n",
       "      <td>NaN</td>\n",
       "      <td>Revive Social App</td>\n",
       "      <td>False</td>\n",
       "    </tr>\n",
       "    <tr>\n",
       "      <th>4</th>\n",
       "      <td>gain-of-function research</td>\n",
       "      <td>Undr the pine hunting lobsters</td>\n",
       "      <td>@Ayjchan's mandate: 'ONLY look @ a -Leak- frm ...</td>\n",
       "      <td>2013-12-24 20:30:14</td>\n",
       "      <td>272</td>\n",
       "      <td>20</td>\n",
       "      <td>24001</td>\n",
       "      <td>False</td>\n",
       "      <td>2021-09-06 23:29:20</td>\n",
       "      <td>Great 18 point case about why you should not t...</td>\n",
       "      <td>['CovidVaccine', 'COVIDVaccination']</td>\n",
       "      <td>Twitter for Android</td>\n",
       "      <td>False</td>\n",
       "    </tr>\n",
       "  </tbody>\n",
       "</table>\n",
       "</div>"
      ],
      "text/plain": [
       "                                        user_name  \\\n",
       "0  NSW Multicultural Health Communication Service   \n",
       "1                               Climate Detective   \n",
       "2                                    david sirias   \n",
       "3                                      COVID News   \n",
       "4                       gain-of-function research   \n",
       "\n",
       "                    user_location  \\\n",
       "0                             NaN   \n",
       "1                             NaN   \n",
       "2               Port Townsend, WA   \n",
       "3                  Estados Unidos   \n",
       "4  Undr the pine hunting lobsters   \n",
       "\n",
       "                                    user_description         user_created  \\\n",
       "0  Official account for NSW Multicultural Health ...  2018-08-20 02:00:05   \n",
       "1  Physicist (MA & PhD) & socialist exploring cli...  2020-11-07 17:03:33   \n",
       "2  Lefty songwriter/musician/producer/publisher. ...  2011-10-28 20:14:55   \n",
       "3                                News about COVID-19  2013-06-05 08:52:31   \n",
       "4  @Ayjchan's mandate: 'ONLY look @ a -Leak- frm ...  2013-12-24 20:30:14   \n",
       "\n",
       "   user_followers  user_friends  user_favourites  user_verified  \\\n",
       "0            1277           243             2311           True   \n",
       "1              94           155              354          False   \n",
       "2            1262          1115              489          False   \n",
       "3            3330          1472              130          False   \n",
       "4             272            20            24001          False   \n",
       "\n",
       "                  date                                               text  \\\n",
       "0  2021-09-06 23:55:48  “Please get vaccinated. Take COVID seriously. ...   \n",
       "1  2021-09-06 23:46:16  @apsmunro That is a lot more than the risk fro...   \n",
       "2  2021-09-06 23:38:34  As I said months ago, anyone supporting a blan...   \n",
       "3  2021-09-06 23:36:50  More crazy Chiropractors!!! This time in Flori...   \n",
       "4  2021-09-06 23:29:20  Great 18 point case about why you should not t...   \n",
       "\n",
       "                                            hashtags               source  \\\n",
       "0                                                NaN            TweetDeck   \n",
       "1                                   ['CovidVaccine']      Twitter Web App   \n",
       "2  ['FascistEmployerMandate', 'FascistVaccinePass...     Twitter for iPad   \n",
       "3                                                NaN    Revive Social App   \n",
       "4               ['CovidVaccine', 'COVIDVaccination']  Twitter for Android   \n",
       "\n",
       "   is_retweet  \n",
       "0       False  \n",
       "1       False  \n",
       "2       False  \n",
       "3       False  \n",
       "4       False  "
      ]
     },
     "execution_count": 7,
     "metadata": {},
     "output_type": "execute_result"
    }
   ],
   "source": [
    "df = pd.read_csv(file_path)\n",
    "# To display the top 5 rows \n",
    "df.head(5) "
   ]
  },
  {
   "cell_type": "markdown",
   "metadata": {},
   "source": [
    "___"
   ]
  },
  {
   "cell_type": "markdown",
   "metadata": {},
   "source": [
    "### Exploratory Data Analysis\n",
    "Exploratory Data Analysis or (EDA) is understanding the data sets by summarizing their main characteristics often plotting them visually. This step is very important especially when we arrive at modeling the data in order to apply Machine learning. "
   ]
  },
  {
   "cell_type": "code",
   "execution_count": null,
   "metadata": {},
   "outputs": [],
   "source": [
    "# Data types\n",
    "df.dtypes"
   ]
  },
  {
   "cell_type": "code",
   "execution_count": null,
   "metadata": {},
   "outputs": [],
   "source": [
    "# Dataframe size (rows, columns)\n",
    "df.shape"
   ]
  },
  {
   "cell_type": "code",
   "execution_count": null,
   "metadata": {},
   "outputs": [],
   "source": [
    "# Missing count per column\n",
    "print(df.isnull().sum())"
   ]
  },
  {
   "cell_type": "code",
   "execution_count": null,
   "metadata": {},
   "outputs": [],
   "source": [
    "df.head(5) "
   ]
  },
  {
   "cell_type": "code",
   "execution_count": null,
   "metadata": {
    "scrolled": true
   },
   "outputs": [],
   "source": [
    "# Unique strings in MD5 count\n",
    "df['source'].value_counts()"
   ]
  },
  {
   "cell_type": "code",
   "execution_count": null,
   "metadata": {},
   "outputs": [],
   "source": [
    "plt.figure(figsize = (16,5))\n",
    "ax = sns.countplot(x='user_verified', data=df)"
   ]
  },
  {
   "cell_type": "markdown",
   "metadata": {},
   "source": [
    "___"
   ]
  },
  {
   "cell_type": "markdown",
   "metadata": {},
   "source": [
    "### Data Cleaning/Feature Engineering:\n",
    "\n",
    "Before we start our sentiment analysis it is a good idea to clean up each tweets from an unnecessary data first.\n",
    "\n",
    "We are going to create a cleanUpTweet function that will:\n",
    "\n",
    "remove mentions\n",
    "remove hashtags\n",
    "remove retweets\n",
    "remove urls"
   ]
  },
  {
   "cell_type": "code",
   "execution_count": 14,
   "metadata": {},
   "outputs": [],
   "source": [
    "def cleanUpTweet(txt):\n",
    "    # Remove mentions\n",
    "    txt = re.sub(r'@[A-Za-z0-9_]+', '', txt)\n",
    "    # Remove hashtags\n",
    "    txt = re.sub(r'#', '', txt)\n",
    "    # Remove retweets:\n",
    "    txt = re.sub(r'RT : ', '', txt)\n",
    "    # Remove urls\n",
    "    txt = re.sub(r'https?:\\/\\/[A-Za-z0-9\\.\\/]+', '', txt)\n",
    "    return txt"
   ]
  },
  {
   "cell_type": "markdown",
   "metadata": {},
   "source": [
    "And nw we are going to apply it for all the Tweets in our Pandas Data Frame.\n",
    "\n"
   ]
  },
  {
   "cell_type": "code",
   "execution_count": 15,
   "metadata": {},
   "outputs": [],
   "source": [
    "df['Tweet'] = df['text'].apply(cleanUpTweet)"
   ]
  },
  {
   "cell_type": "code",
   "execution_count": 16,
   "metadata": {},
   "outputs": [
    {
     "data": {
      "text/html": [
       "<div>\n",
       "<style scoped>\n",
       "    .dataframe tbody tr th:only-of-type {\n",
       "        vertical-align: middle;\n",
       "    }\n",
       "\n",
       "    .dataframe tbody tr th {\n",
       "        vertical-align: top;\n",
       "    }\n",
       "\n",
       "    .dataframe thead th {\n",
       "        text-align: right;\n",
       "    }\n",
       "</style>\n",
       "<table border=\"1\" class=\"dataframe\">\n",
       "  <thead>\n",
       "    <tr style=\"text-align: right;\">\n",
       "      <th></th>\n",
       "      <th>user_name</th>\n",
       "      <th>user_location</th>\n",
       "      <th>user_description</th>\n",
       "      <th>user_created</th>\n",
       "      <th>user_followers</th>\n",
       "      <th>user_friends</th>\n",
       "      <th>user_favourites</th>\n",
       "      <th>user_verified</th>\n",
       "      <th>date</th>\n",
       "      <th>text</th>\n",
       "      <th>hashtags</th>\n",
       "      <th>source</th>\n",
       "      <th>is_retweet</th>\n",
       "      <th>Tweet</th>\n",
       "    </tr>\n",
       "  </thead>\n",
       "  <tbody>\n",
       "    <tr>\n",
       "      <th>0</th>\n",
       "      <td>NSW Multicultural Health Communication Service</td>\n",
       "      <td>NaN</td>\n",
       "      <td>Official account for NSW Multicultural Health ...</td>\n",
       "      <td>2018-08-20 02:00:05</td>\n",
       "      <td>1277</td>\n",
       "      <td>243</td>\n",
       "      <td>2311</td>\n",
       "      <td>True</td>\n",
       "      <td>2021-09-06 23:55:48</td>\n",
       "      <td>“Please get vaccinated. Take COVID seriously. ...</td>\n",
       "      <td>NaN</td>\n",
       "      <td>TweetDeck</td>\n",
       "      <td>False</td>\n",
       "      <td>“Please get vaccinated. Take COVID seriously. ...</td>\n",
       "    </tr>\n",
       "    <tr>\n",
       "      <th>1</th>\n",
       "      <td>Climate Detective</td>\n",
       "      <td>NaN</td>\n",
       "      <td>Physicist (MA &amp; PhD) &amp; socialist exploring cli...</td>\n",
       "      <td>2020-11-07 17:03:33</td>\n",
       "      <td>94</td>\n",
       "      <td>155</td>\n",
       "      <td>354</td>\n",
       "      <td>False</td>\n",
       "      <td>2021-09-06 23:46:16</td>\n",
       "      <td>@apsmunro That is a lot more than the risk fro...</td>\n",
       "      <td>['CovidVaccine']</td>\n",
       "      <td>Twitter Web App</td>\n",
       "      <td>False</td>\n",
       "      <td>That is a lot more than the risk from the Cov...</td>\n",
       "    </tr>\n",
       "    <tr>\n",
       "      <th>2</th>\n",
       "      <td>david sirias</td>\n",
       "      <td>Port Townsend, WA</td>\n",
       "      <td>Lefty songwriter/musician/producer/publisher. ...</td>\n",
       "      <td>2011-10-28 20:14:55</td>\n",
       "      <td>1262</td>\n",
       "      <td>1115</td>\n",
       "      <td>489</td>\n",
       "      <td>False</td>\n",
       "      <td>2021-09-06 23:38:34</td>\n",
       "      <td>As I said months ago, anyone supporting a blan...</td>\n",
       "      <td>['FascistEmployerMandate', 'FascistVaccinePass...</td>\n",
       "      <td>Twitter for iPad</td>\n",
       "      <td>False</td>\n",
       "      <td>As I said months ago, anyone supporting a blan...</td>\n",
       "    </tr>\n",
       "    <tr>\n",
       "      <th>3</th>\n",
       "      <td>COVID News</td>\n",
       "      <td>Estados Unidos</td>\n",
       "      <td>News about COVID-19</td>\n",
       "      <td>2013-06-05 08:52:31</td>\n",
       "      <td>3330</td>\n",
       "      <td>1472</td>\n",
       "      <td>130</td>\n",
       "      <td>False</td>\n",
       "      <td>2021-09-06 23:36:50</td>\n",
       "      <td>More crazy Chiropractors!!! This time in Flori...</td>\n",
       "      <td>NaN</td>\n",
       "      <td>Revive Social App</td>\n",
       "      <td>False</td>\n",
       "      <td>More crazy Chiropractors!!! This time in Flori...</td>\n",
       "    </tr>\n",
       "    <tr>\n",
       "      <th>4</th>\n",
       "      <td>gain-of-function research</td>\n",
       "      <td>Undr the pine hunting lobsters</td>\n",
       "      <td>@Ayjchan's mandate: 'ONLY look @ a -Leak- frm ...</td>\n",
       "      <td>2013-12-24 20:30:14</td>\n",
       "      <td>272</td>\n",
       "      <td>20</td>\n",
       "      <td>24001</td>\n",
       "      <td>False</td>\n",
       "      <td>2021-09-06 23:29:20</td>\n",
       "      <td>Great 18 point case about why you should not t...</td>\n",
       "      <td>['CovidVaccine', 'COVIDVaccination']</td>\n",
       "      <td>Twitter for Android</td>\n",
       "      <td>False</td>\n",
       "      <td>Great 18 point case about why you should not t...</td>\n",
       "    </tr>\n",
       "  </tbody>\n",
       "</table>\n",
       "</div>"
      ],
      "text/plain": [
       "                                        user_name  \\\n",
       "0  NSW Multicultural Health Communication Service   \n",
       "1                               Climate Detective   \n",
       "2                                    david sirias   \n",
       "3                                      COVID News   \n",
       "4                       gain-of-function research   \n",
       "\n",
       "                    user_location  \\\n",
       "0                             NaN   \n",
       "1                             NaN   \n",
       "2               Port Townsend, WA   \n",
       "3                  Estados Unidos   \n",
       "4  Undr the pine hunting lobsters   \n",
       "\n",
       "                                    user_description         user_created  \\\n",
       "0  Official account for NSW Multicultural Health ...  2018-08-20 02:00:05   \n",
       "1  Physicist (MA & PhD) & socialist exploring cli...  2020-11-07 17:03:33   \n",
       "2  Lefty songwriter/musician/producer/publisher. ...  2011-10-28 20:14:55   \n",
       "3                                News about COVID-19  2013-06-05 08:52:31   \n",
       "4  @Ayjchan's mandate: 'ONLY look @ a -Leak- frm ...  2013-12-24 20:30:14   \n",
       "\n",
       "   user_followers  user_friends  user_favourites  user_verified  \\\n",
       "0            1277           243             2311           True   \n",
       "1              94           155              354          False   \n",
       "2            1262          1115              489          False   \n",
       "3            3330          1472              130          False   \n",
       "4             272            20            24001          False   \n",
       "\n",
       "                  date                                               text  \\\n",
       "0  2021-09-06 23:55:48  “Please get vaccinated. Take COVID seriously. ...   \n",
       "1  2021-09-06 23:46:16  @apsmunro That is a lot more than the risk fro...   \n",
       "2  2021-09-06 23:38:34  As I said months ago, anyone supporting a blan...   \n",
       "3  2021-09-06 23:36:50  More crazy Chiropractors!!! This time in Flori...   \n",
       "4  2021-09-06 23:29:20  Great 18 point case about why you should not t...   \n",
       "\n",
       "                                            hashtags               source  \\\n",
       "0                                                NaN            TweetDeck   \n",
       "1                                   ['CovidVaccine']      Twitter Web App   \n",
       "2  ['FascistEmployerMandate', 'FascistVaccinePass...     Twitter for iPad   \n",
       "3                                                NaN    Revive Social App   \n",
       "4               ['CovidVaccine', 'COVIDVaccination']  Twitter for Android   \n",
       "\n",
       "   is_retweet                                              Tweet  \n",
       "0       False  “Please get vaccinated. Take COVID seriously. ...  \n",
       "1       False   That is a lot more than the risk from the Cov...  \n",
       "2       False  As I said months ago, anyone supporting a blan...  \n",
       "3       False  More crazy Chiropractors!!! This time in Flori...  \n",
       "4       False  Great 18 point case about why you should not t...  "
      ]
     },
     "execution_count": 16,
     "metadata": {},
     "output_type": "execute_result"
    }
   ],
   "source": [
    "df.head()"
   ]
  },
  {
   "cell_type": "markdown",
   "metadata": {},
   "source": [
    "### Target Variable\n",
    "\n",
    "- We will use sentiment analysis to create our target variable, Score. The values will be negative, positive, and neutral"
   ]
  },
  {
   "cell_type": "markdown",
   "metadata": {},
   "source": [
    "We are also going to build a couple more functions to calculate the subjectivity and polarity of our tweets.\n",
    "\n"
   ]
  },
  {
   "cell_type": "code",
   "execution_count": 17,
   "metadata": {},
   "outputs": [],
   "source": [
    "def getTextSubjectivity(txt):\n",
    "    return TextBlob(txt).sentiment.subjectivity\n",
    "\n",
    "def getTextPolarity(txt):\n",
    "    return TextBlob(txt).sentiment.polarity"
   ]
  },
  {
   "cell_type": "markdown",
   "metadata": {},
   "source": [
    "And now we are going to apply these functions to our data frame and create two new features in our data frame Subjectivity and Polarity.\n",
    "\n"
   ]
  },
  {
   "cell_type": "code",
   "execution_count": 18,
   "metadata": {},
   "outputs": [],
   "source": [
    "df['Subjectivity'] = df['Tweet'].apply(getTextSubjectivity)\n",
    "df['Polarity'] = df['Tweet'].apply(getTextPolarity)"
   ]
  },
  {
   "cell_type": "code",
   "execution_count": 19,
   "metadata": {},
   "outputs": [
    {
     "data": {
      "text/html": [
       "<div>\n",
       "<style scoped>\n",
       "    .dataframe tbody tr th:only-of-type {\n",
       "        vertical-align: middle;\n",
       "    }\n",
       "\n",
       "    .dataframe tbody tr th {\n",
       "        vertical-align: top;\n",
       "    }\n",
       "\n",
       "    .dataframe thead th {\n",
       "        text-align: right;\n",
       "    }\n",
       "</style>\n",
       "<table border=\"1\" class=\"dataframe\">\n",
       "  <thead>\n",
       "    <tr style=\"text-align: right;\">\n",
       "      <th></th>\n",
       "      <th>user_name</th>\n",
       "      <th>user_location</th>\n",
       "      <th>user_description</th>\n",
       "      <th>user_created</th>\n",
       "      <th>user_followers</th>\n",
       "      <th>user_friends</th>\n",
       "      <th>user_favourites</th>\n",
       "      <th>user_verified</th>\n",
       "      <th>date</th>\n",
       "      <th>text</th>\n",
       "      <th>hashtags</th>\n",
       "      <th>source</th>\n",
       "      <th>is_retweet</th>\n",
       "      <th>Tweet</th>\n",
       "      <th>Subjectivity</th>\n",
       "      <th>Polarity</th>\n",
       "    </tr>\n",
       "  </thead>\n",
       "  <tbody>\n",
       "    <tr>\n",
       "      <th>0</th>\n",
       "      <td>NSW Multicultural Health Communication Service</td>\n",
       "      <td>NaN</td>\n",
       "      <td>Official account for NSW Multicultural Health ...</td>\n",
       "      <td>2018-08-20 02:00:05</td>\n",
       "      <td>1277</td>\n",
       "      <td>243</td>\n",
       "      <td>2311</td>\n",
       "      <td>True</td>\n",
       "      <td>2021-09-06 23:55:48</td>\n",
       "      <td>“Please get vaccinated. Take COVID seriously. ...</td>\n",
       "      <td>NaN</td>\n",
       "      <td>TweetDeck</td>\n",
       "      <td>False</td>\n",
       "      <td>“Please get vaccinated. Take COVID seriously. ...</td>\n",
       "      <td>0.333333</td>\n",
       "      <td>0.083333</td>\n",
       "    </tr>\n",
       "    <tr>\n",
       "      <th>1</th>\n",
       "      <td>Climate Detective</td>\n",
       "      <td>NaN</td>\n",
       "      <td>Physicist (MA &amp; PhD) &amp; socialist exploring cli...</td>\n",
       "      <td>2020-11-07 17:03:33</td>\n",
       "      <td>94</td>\n",
       "      <td>155</td>\n",
       "      <td>354</td>\n",
       "      <td>False</td>\n",
       "      <td>2021-09-06 23:46:16</td>\n",
       "      <td>@apsmunro That is a lot more than the risk fro...</td>\n",
       "      <td>['CovidVaccine']</td>\n",
       "      <td>Twitter Web App</td>\n",
       "      <td>False</td>\n",
       "      <td>That is a lot more than the risk from the Cov...</td>\n",
       "      <td>0.750000</td>\n",
       "      <td>0.250000</td>\n",
       "    </tr>\n",
       "    <tr>\n",
       "      <th>2</th>\n",
       "      <td>david sirias</td>\n",
       "      <td>Port Townsend, WA</td>\n",
       "      <td>Lefty songwriter/musician/producer/publisher. ...</td>\n",
       "      <td>2011-10-28 20:14:55</td>\n",
       "      <td>1262</td>\n",
       "      <td>1115</td>\n",
       "      <td>489</td>\n",
       "      <td>False</td>\n",
       "      <td>2021-09-06 23:38:34</td>\n",
       "      <td>As I said months ago, anyone supporting a blan...</td>\n",
       "      <td>['FascistEmployerMandate', 'FascistVaccinePass...</td>\n",
       "      <td>Twitter for iPad</td>\n",
       "      <td>False</td>\n",
       "      <td>As I said months ago, anyone supporting a blan...</td>\n",
       "      <td>0.250000</td>\n",
       "      <td>0.250000</td>\n",
       "    </tr>\n",
       "    <tr>\n",
       "      <th>3</th>\n",
       "      <td>COVID News</td>\n",
       "      <td>Estados Unidos</td>\n",
       "      <td>News about COVID-19</td>\n",
       "      <td>2013-06-05 08:52:31</td>\n",
       "      <td>3330</td>\n",
       "      <td>1472</td>\n",
       "      <td>130</td>\n",
       "      <td>False</td>\n",
       "      <td>2021-09-06 23:36:50</td>\n",
       "      <td>More crazy Chiropractors!!! This time in Flori...</td>\n",
       "      <td>NaN</td>\n",
       "      <td>Revive Social App</td>\n",
       "      <td>False</td>\n",
       "      <td>More crazy Chiropractors!!! This time in Flori...</td>\n",
       "      <td>0.700000</td>\n",
       "      <td>-0.250000</td>\n",
       "    </tr>\n",
       "    <tr>\n",
       "      <th>4</th>\n",
       "      <td>gain-of-function research</td>\n",
       "      <td>Undr the pine hunting lobsters</td>\n",
       "      <td>@Ayjchan's mandate: 'ONLY look @ a -Leak- frm ...</td>\n",
       "      <td>2013-12-24 20:30:14</td>\n",
       "      <td>272</td>\n",
       "      <td>20</td>\n",
       "      <td>24001</td>\n",
       "      <td>False</td>\n",
       "      <td>2021-09-06 23:29:20</td>\n",
       "      <td>Great 18 point case about why you should not t...</td>\n",
       "      <td>['CovidVaccine', 'COVIDVaccination']</td>\n",
       "      <td>Twitter for Android</td>\n",
       "      <td>False</td>\n",
       "      <td>Great 18 point case about why you should not t...</td>\n",
       "      <td>0.750000</td>\n",
       "      <td>0.800000</td>\n",
       "    </tr>\n",
       "  </tbody>\n",
       "</table>\n",
       "</div>"
      ],
      "text/plain": [
       "                                        user_name  \\\n",
       "0  NSW Multicultural Health Communication Service   \n",
       "1                               Climate Detective   \n",
       "2                                    david sirias   \n",
       "3                                      COVID News   \n",
       "4                       gain-of-function research   \n",
       "\n",
       "                    user_location  \\\n",
       "0                             NaN   \n",
       "1                             NaN   \n",
       "2               Port Townsend, WA   \n",
       "3                  Estados Unidos   \n",
       "4  Undr the pine hunting lobsters   \n",
       "\n",
       "                                    user_description         user_created  \\\n",
       "0  Official account for NSW Multicultural Health ...  2018-08-20 02:00:05   \n",
       "1  Physicist (MA & PhD) & socialist exploring cli...  2020-11-07 17:03:33   \n",
       "2  Lefty songwriter/musician/producer/publisher. ...  2011-10-28 20:14:55   \n",
       "3                                News about COVID-19  2013-06-05 08:52:31   \n",
       "4  @Ayjchan's mandate: 'ONLY look @ a -Leak- frm ...  2013-12-24 20:30:14   \n",
       "\n",
       "   user_followers  user_friends  user_favourites  user_verified  \\\n",
       "0            1277           243             2311           True   \n",
       "1              94           155              354          False   \n",
       "2            1262          1115              489          False   \n",
       "3            3330          1472              130          False   \n",
       "4             272            20            24001          False   \n",
       "\n",
       "                  date                                               text  \\\n",
       "0  2021-09-06 23:55:48  “Please get vaccinated. Take COVID seriously. ...   \n",
       "1  2021-09-06 23:46:16  @apsmunro That is a lot more than the risk fro...   \n",
       "2  2021-09-06 23:38:34  As I said months ago, anyone supporting a blan...   \n",
       "3  2021-09-06 23:36:50  More crazy Chiropractors!!! This time in Flori...   \n",
       "4  2021-09-06 23:29:20  Great 18 point case about why you should not t...   \n",
       "\n",
       "                                            hashtags               source  \\\n",
       "0                                                NaN            TweetDeck   \n",
       "1                                   ['CovidVaccine']      Twitter Web App   \n",
       "2  ['FascistEmployerMandate', 'FascistVaccinePass...     Twitter for iPad   \n",
       "3                                                NaN    Revive Social App   \n",
       "4               ['CovidVaccine', 'COVIDVaccination']  Twitter for Android   \n",
       "\n",
       "   is_retweet                                              Tweet  \\\n",
       "0       False  “Please get vaccinated. Take COVID seriously. ...   \n",
       "1       False   That is a lot more than the risk from the Cov...   \n",
       "2       False  As I said months ago, anyone supporting a blan...   \n",
       "3       False  More crazy Chiropractors!!! This time in Flori...   \n",
       "4       False  Great 18 point case about why you should not t...   \n",
       "\n",
       "   Subjectivity  Polarity  \n",
       "0      0.333333  0.083333  \n",
       "1      0.750000  0.250000  \n",
       "2      0.250000  0.250000  \n",
       "3      0.700000 -0.250000  \n",
       "4      0.750000  0.800000  "
      ]
     },
     "execution_count": 19,
     "metadata": {},
     "output_type": "execute_result"
    }
   ],
   "source": [
    "df.head()"
   ]
  },
  {
   "cell_type": "markdown",
   "metadata": {},
   "source": [
    "We have some empty rows here so before further processing let's remove those.\n",
    "\n",
    "The below command will remove all the rows with the Tweet column equals to \"\"."
   ]
  },
  {
   "cell_type": "code",
   "execution_count": 20,
   "metadata": {},
   "outputs": [],
   "source": [
    "df = df.drop(df[df['Tweet'] == ''].index)\n"
   ]
  },
  {
   "cell_type": "code",
   "execution_count": 21,
   "metadata": {},
   "outputs": [],
   "source": [
    "# negative, nautral, positive analysis\n",
    "def getTextAnalysis(a):\n",
    "    if a < 0:\n",
    "        return \"Negative\"\n",
    "    elif a == 0:\n",
    "        return \"Neutral\"\n",
    "    else:\n",
    "        return \"Positive\""
   ]
  },
  {
   "cell_type": "markdown",
   "metadata": {},
   "source": [
    "And apply this functiona and create another feature in our data frame called Score.\n"
   ]
  },
  {
   "cell_type": "code",
   "execution_count": 22,
   "metadata": {},
   "outputs": [],
   "source": [
    "df['Score'] = df['Polarity'].apply(getTextAnalysis)"
   ]
  },
  {
   "cell_type": "markdown",
   "metadata": {},
   "source": [
    "Let;s now take all positive tweets and calculate the percentage of positive tweets from all the tweets in our data frame.\n",
    "\n"
   ]
  },
  {
   "cell_type": "code",
   "execution_count": 23,
   "metadata": {},
   "outputs": [
    {
     "name": "stdout",
     "output_type": "stream",
     "text": [
      "41.398133474203206 % of positive tweets\n"
     ]
    }
   ],
   "source": [
    "positive = df[df['Score'] == 'Positive']\n",
    "\n",
    "print(str(positive.shape[0]/(df.shape[0])*100) + \" % of positive tweets\")"
   ]
  },
  {
   "cell_type": "markdown",
   "metadata": {},
   "source": [
    "We can now visualise positive, negative, neutral tweets using Matplotlib.\n"
   ]
  },
  {
   "cell_type": "code",
   "execution_count": 24,
   "metadata": {},
   "outputs": [
    {
     "data": {
      "text/plain": [
       "<BarContainer object of 3 artists>"
      ]
     },
     "execution_count": 24,
     "metadata": {},
     "output_type": "execute_result"
    },
    {
     "data": {
      "image/png": "[encoded data removed]",
      "text/plain": [
       "<Figure size 432x288 with 1 Axes>"
      ]
     },
     "metadata": {
      "needs_background": "light"
     },
     "output_type": "display_data"
    }
   ],
   "source": [
    "labels = df.groupby('Score').count().index.values\n",
    "\n",
    "values = df.groupby('Score').size().values\n",
    "\n",
    "plt.bar(labels, values)"
   ]
  },
  {
   "cell_type": "markdown",
   "metadata": {},
   "source": [
    "_______________"
   ]
  },
  {
   "cell_type": "markdown",
   "metadata": {},
   "source": [
    "___"
   ]
  },
  {
   "cell_type": "markdown",
   "metadata": {},
   "source": [
    "### Splitting Dataset into Train and Test\n",
    "\n",
    "The splitting methodology implemented is to split the datasets based on years. The aim is to get an industry standard sample split of 80% train and 20% test"
   ]
  },
  {
   "cell_type": "code",
   "execution_count": 26,
   "metadata": {},
   "outputs": [
    {
     "name": "stdout",
     "output_type": "stream",
     "text": [
      "row count:  5679\n"
     ]
    }
   ],
   "source": [
    "row_count = len(df)\n",
    "print('row count: ', row_count)"
   ]
  },
  {
   "cell_type": "markdown",
   "metadata": {},
   "source": [
    "#### Missing value treatment"
   ]
  },
  {
   "cell_type": "code",
   "execution_count": 27,
   "metadata": {},
   "outputs": [],
   "source": [
    "values = {\"user_location\": 'None', \"user_description\": 'None', \"hashtags\": 'None'}\n",
    "df.fillna(value=values, inplace = True)"
   ]
  },
  {
   "cell_type": "code",
   "execution_count": 28,
   "metadata": {},
   "outputs": [
    {
     "name": "stdout",
     "output_type": "stream",
     "text": [
      "user_name           0\n",
      "user_location       0\n",
      "user_description    0\n",
      "user_created        0\n",
      "user_followers      0\n",
      "user_friends        0\n",
      "user_favourites     0\n",
      "user_verified       0\n",
      "date                0\n",
      "text                0\n",
      "hashtags            0\n",
      "source              0\n",
      "is_retweet          0\n",
      "Tweet               0\n",
      "Subjectivity        0\n",
      "Polarity            0\n",
      "Score               0\n",
      "dtype: int64\n"
     ]
    }
   ],
   "source": [
    "# Missing count per column\n",
    "print(df.isnull().sum())"
   ]
  },
  {
   "cell_type": "markdown",
   "metadata": {},
   "source": [
    "#### One Hot Encoding\n",
    "One hot encoding creates new (binary) columns, indicating the presence of each possible value from the original data."
   ]
  },
  {
   "cell_type": "code",
   "execution_count": 29,
   "metadata": {},
   "outputs": [],
   "source": [
    "# List of columns to be one hot encoded\n",
    "ONE_HOT_ENCODED_COLUMNS = ['source', 'user_verified', 'is_retweet']"
   ]
  },
  {
   "cell_type": "code",
   "execution_count": 30,
   "metadata": {},
   "outputs": [],
   "source": [
    "encoder=OneHotEncoder(sparse=False)\n",
    "df_merged_encoded = df.copy()\n",
    "\n",
    "for column_name in ONE_HOT_ENCODED_COLUMNS:\n",
    "    X_encoded          = pd.DataFrame (encoder.fit_transform(df_merged_encoded[[column_name]]))\n",
    "    X_encoded.columns  = encoder.get_feature_names([column_name])\n",
    "    df_merged_encoded = pd.concat([df_merged_encoded, X_encoded ], axis=1)"
   ]
  },
  {
   "cell_type": "code",
   "execution_count": 31,
   "metadata": {},
   "outputs": [
    {
     "data": {
      "text/plain": [
       "Index(['user_name', 'user_location', 'user_description', 'user_created',\n",
       "       'user_followers', 'user_friends', 'user_favourites', 'user_verified',\n",
       "       'date', 'text', 'hashtags', 'source', 'is_retweet', 'Tweet',\n",
       "       'Subjectivity', 'Polarity', 'Score', 'source_@healthpolicyw',\n",
       "       'source_Agorapulse app', 'source_Ai News Room',\n",
       "       'source_Blog2Social APP', 'source_Buffer',\n",
       "       'source_Canada Vaccine Tracker', 'source_Canva',\n",
       "       'source_Cloud Campaign', 'source_CoSchedule',\n",
       "       'source_ContentCal Studio', 'source_CrowdControlHQ',\n",
       "       'source_Crowdfire App', 'source_Daily Voice Sync', 'source_Echobox',\n",
       "       'source_Falcon Social Media Management ', 'source_Flying Eze',\n",
       "       'source_Grabyo', 'source_HeyOrca', 'source_Hocalwire Social Share',\n",
       "       'source_Hootsuite Inc.', 'source_HubSpot', 'source_Instagram',\n",
       "       'source_Ireland Vaccine Progress', 'source_Khoros Publishing App',\n",
       "       'source_LaterMedia', 'source_Loomly', 'source_Meltwater Social',\n",
       "       'source_Microsoft Power Platform', 'source_National Herald',\n",
       "       'source_Nonli', 'source_Oktopost', 'source_Orlo', 'source_Oyeyeah',\n",
       "       'source_OzVaxProgress', 'source_Paper.li', 'source_PromoRepublic',\n",
       "       'source_Publer.io', 'source_Restream.io', 'source_RetweetsMumbaiOne',\n",
       "       'source_Revive Social App', 'source_SOCi - Simplifying Social Media',\n",
       "       'source_SPTK: DVBergen', 'source_Salesforce - Social Studio',\n",
       "       'source_Sendible', 'source_Sharpspring', 'source_Sked Social',\n",
       "       'source_SmarterQueue', 'source_Spreaker', 'source_Sprinklr',\n",
       "       'source_Sprinklr Publishing', 'source_Sprout Social',\n",
       "       'source_The Healthsite', 'source_The Social Jukebox',\n",
       "       'source_Tweet Suite', 'source_TweetDeck', 'source_Tweetbot for iΟS',\n",
       "       'source_Twitter Ads', 'source_Twitter Media Studio',\n",
       "       'source_Twitter Media Studio - LiveCut', 'source_Twitter Web App',\n",
       "       'source_Twitter for Advertisers', 'source_Twitter for Advertisers.',\n",
       "       'source_Twitter for Android', 'source_Twitter for Mac',\n",
       "       'source_Twitter for iPad', 'source_Twitter for iPhone',\n",
       "       'source_UKVacTrack', 'source_UKVaccineStats', 'source_VaxBlr',\n",
       "       'source_WECAN Content', 'source_WordPress.com', 'source_Zoho Social',\n",
       "       'source_dlvr.it', 'source_eClincher', 'source_pluspora',\n",
       "       'source_recurpost.com', 'source_robly_marketing',\n",
       "       'source_todayinnevada', 'source_vaccinate chicago',\n",
       "       'source_vaccinebotuk', 'user_verified_False', 'user_verified_True',\n",
       "       'is_retweet_False'],\n",
       "      dtype='object')"
      ]
     },
     "execution_count": 31,
     "metadata": {},
     "output_type": "execute_result"
    }
   ],
   "source": [
    "df_merged_encoded.columns"
   ]
  },
  {
   "cell_type": "code",
   "execution_count": 32,
   "metadata": {},
   "outputs": [],
   "source": [
    "X_Features = ['user_name', 'user_location', 'user_description', 'user_created',\n",
    "       'user_followers', 'user_friends', 'user_favourites', 'user_verified',\n",
    "       'date', 'text', 'hashtags', 'source', 'is_retweet', 'Tweet',\n",
    "       'Subjectivity', 'Polarity', 'source_@healthpolicyw',\n",
    "       'source_Agorapulse app', 'source_Ai News Room',\n",
    "       'source_Blog2Social APP', 'source_Buffer',\n",
    "       'source_Canada Vaccine Tracker', 'source_Canva',\n",
    "       'source_Cloud Campaign', 'source_CoSchedule',\n",
    "       'source_ContentCal Studio', 'source_CrowdControlHQ',\n",
    "       'source_Crowdfire App', 'source_Daily Voice Sync', 'source_Echobox',\n",
    "       'source_Falcon Social Media Management ', 'source_Flying Eze',\n",
    "       'source_Grabyo', 'source_HeyOrca', 'source_Hocalwire Social Share',\n",
    "       'source_Hootsuite Inc.', 'source_HubSpot', 'source_Instagram',\n",
    "       'source_Ireland Vaccine Progress', 'source_Khoros Publishing App',\n",
    "       'source_LaterMedia', 'source_Loomly', 'source_Meltwater Social',\n",
    "       'source_Microsoft Power Platform', 'source_National Herald',\n",
    "       'source_Nonli', 'source_Oktopost', 'source_Orlo', 'source_Oyeyeah',\n",
    "       'source_OzVaxProgress', 'source_Paper.li', 'source_PromoRepublic',\n",
    "       'source_Publer.io', 'source_Restream.io', 'source_RetweetsMumbaiOne',\n",
    "       'source_Revive Social App', 'source_SOCi - Simplifying Social Media',\n",
    "       'source_SPTK: DVBergen', 'source_Salesforce - Social Studio',\n",
    "       'source_Sendible', 'source_Sharpspring', 'source_Sked Social',\n",
    "       'source_SmarterQueue', 'source_Spreaker', 'source_Sprinklr',\n",
    "       'source_Sprinklr Publishing', 'source_Sprout Social',\n",
    "       'source_The Healthsite', 'source_The Social Jukebox',\n",
    "       'source_Tweet Suite', 'source_TweetDeck', 'source_Tweetbot for iΟS',\n",
    "       'source_Twitter Ads', 'source_Twitter Media Studio',\n",
    "       'source_Twitter Media Studio - LiveCut', 'source_Twitter Web App',\n",
    "       'source_Twitter for Advertisers', 'source_Twitter for Advertisers.',\n",
    "       'source_Twitter for Android', 'source_Twitter for Mac',\n",
    "       'source_Twitter for iPad', 'source_Twitter for iPhone',\n",
    "       'source_UKVacTrack', 'source_UKVaccineStats', 'source_VaxBlr',\n",
    "       'source_WECAN Content', 'source_WordPress.com', 'source_Zoho Social',\n",
    "       'source_dlvr.it', 'source_eClincher', 'source_pluspora',\n",
    "       'source_recurpost.com', 'source_robly_marketing', 'source_todayinnevada', 'source_vaccinate chicago',\n",
    "       'source_vaccinebotuk', 'user_verified_False', 'user_verified_True',\n",
    "       'is_retweet_False'\n",
    "       ]\n",
    "\n",
    "Target = 'Score'"
   ]
  },
  {
   "cell_type": "code",
   "execution_count": 33,
   "metadata": {},
   "outputs": [],
   "source": [
    "from sklearn.model_selection import train_test_split\n",
    "\n",
    "x_train, x_test, y_train, y_test = train_test_split(df_merged_encoded[X_Features], df_merged_encoded[Target], test_size=0.20, random_state=4)\n",
    "\n",
    "x_train.reset_index(drop=True, inplace= True)\n",
    "x_test.reset_index(drop=True, inplace= True)\n",
    "y_train.reset_index(drop=True, inplace= True)\n",
    "y_test.reset_index(drop=True, inplace= True)"
   ]
  },
  {
   "cell_type": "code",
   "execution_count": 34,
   "metadata": {},
   "outputs": [
    {
     "name": "stdout",
     "output_type": "stream",
     "text": [
      "Train size :  4543\n"
     ]
    }
   ],
   "source": [
    "print('Train size : ',len(x_train))"
   ]
  },
  {
   "cell_type": "code",
   "execution_count": 35,
   "metadata": {},
   "outputs": [
    {
     "name": "stdout",
     "output_type": "stream",
     "text": [
      "Test size :  1136\n"
     ]
    }
   ],
   "source": [
    "print('Test size : ',len(x_test))"
   ]
  },
  {
   "cell_type": "markdown",
   "metadata": {},
   "source": [
    "___"
   ]
  },
  {
   "cell_type": "markdown",
   "metadata": {},
   "source": [
    "# Task 2: Machine Learning Model"
   ]
  },
  {
   "cell_type": "markdown",
   "metadata": {},
   "source": [
    "### Goal:\n",
    "\n",
    "The purpose of this model building exercise is to build a binary classification model that can identify whether sentiment.\n",
    "\n",
    "### Steps:\n",
    "1. Model Train\n",
    "2. Error Analysis\n"
   ]
  },
  {
   "cell_type": "markdown",
   "metadata": {},
   "source": [
    "## Model Training"
   ]
  },
  {
   "cell_type": "code",
   "execution_count": 36,
   "metadata": {},
   "outputs": [
    {
     "data": {
      "text/plain": [
       "86"
      ]
     },
     "execution_count": 36,
     "metadata": {},
     "output_type": "execute_result"
    }
   ],
   "source": [
    "MODELING_FEATURES = ['source_@healthpolicyw',\n",
    "       'source_Agorapulse app', 'source_Ai News Room',\n",
    "       'source_Blog2Social APP', 'source_Buffer',\n",
    "       'source_Canada Vaccine Tracker', 'source_Canva',\n",
    "       'source_Cloud Campaign', 'source_CoSchedule',\n",
    "       'source_ContentCal Studio', 'source_CrowdControlHQ',\n",
    "       'source_Crowdfire App', 'source_Daily Voice Sync', 'source_Echobox',\n",
    "       'source_Falcon Social Media Management ', 'source_Flying Eze',\n",
    "       'source_Grabyo', 'source_HeyOrca', 'source_Hocalwire Social Share',\n",
    "       'source_Hootsuite Inc.', 'source_HubSpot', 'source_Instagram',\n",
    "       'source_Ireland Vaccine Progress', 'source_Khoros Publishing App',\n",
    "       'source_LaterMedia', 'source_Loomly', 'source_Meltwater Social',\n",
    "       'source_Microsoft Power Platform', 'source_National Herald',\n",
    "       'source_Nonli', 'source_Oktopost', 'source_Orlo', 'source_Oyeyeah',\n",
    "       'source_OzVaxProgress', 'source_Paper.li', 'source_PromoRepublic',\n",
    "       'source_Publer.io', 'source_Restream.io', 'source_RetweetsMumbaiOne',\n",
    "       'source_Revive Social App', 'source_SOCi - Simplifying Social Media',\n",
    "       'source_SPTK: DVBergen', 'source_Salesforce - Social Studio',\n",
    "       'source_Sendible', 'source_Sharpspring', 'source_Sked Social',\n",
    "       'source_SmarterQueue', 'source_Spreaker', 'source_Sprinklr',\n",
    "       'source_Sprinklr Publishing', 'source_Sprout Social',\n",
    "       'source_The Healthsite', 'source_The Social Jukebox',\n",
    "       'source_Tweet Suite', 'source_TweetDeck', 'source_Tweetbot for iΟS',\n",
    "       'source_Twitter Ads', 'source_Twitter Media Studio',\n",
    "       'source_Twitter Media Studio - LiveCut', 'source_Twitter Web App',\n",
    "       'source_Twitter for Advertisers', 'source_Twitter for Advertisers.',\n",
    "       'source_Twitter for Android', 'source_Twitter for Mac',\n",
    "       'source_Twitter for iPad', 'source_Twitter for iPhone',\n",
    "       'source_UKVacTrack', 'source_UKVaccineStats', 'source_VaxBlr',\n",
    "       'source_WECAN Content', 'source_WordPress.com', 'source_Zoho Social',\n",
    "       'source_dlvr.it', 'source_eClincher', 'source_pluspora',\n",
    "       'source_recurpost.com', 'source_robly_marketing', 'source_todayinnevada', 'source_vaccinate chicago',\n",
    "       'source_vaccinebotuk', 'user_verified_False', 'user_verified_True',\n",
    "       'is_retweet_False', 'user_followers', 'user_friends', 'user_favourites']\n",
    "len(MODELING_FEATURES)"
   ]
  },
  {
   "cell_type": "markdown",
   "metadata": {},
   "source": [
    "### Logistic Regression\n",
    "\n",
    "Logistic regression is a statistical model that in its basic form uses a logistic function to model a binary dependent variable"
   ]
  },
  {
   "cell_type": "code",
   "execution_count": 6,
   "metadata": {},
   "outputs": [
    {
     "ename": "NameError",
     "evalue": "name 'LogisticRegression' is not defined",
     "output_type": "error",
     "traceback": [
      "\u001b[0;31m---------------------------------------------------------------------------\u001b[0m",
      "\u001b[0;31mNameError\u001b[0m                                 Traceback (most recent call last)",
      "\u001b[0;32m<ipython-input-6-d36a41a90b23>\u001b[0m in \u001b[0;36m<module>\u001b[0;34m\u001b[0m\n\u001b[0;32m----> 1\u001b[0;31m \u001b[0mlg_model\u001b[0m \u001b[0;34m=\u001b[0m \u001b[0mLogisticRegression\u001b[0m\u001b[0;34m(\u001b[0m\u001b[0;34m)\u001b[0m\u001b[0;34m\u001b[0m\u001b[0;34m\u001b[0m\u001b[0m\n\u001b[0m\u001b[1;32m      2\u001b[0m \u001b[0mlg_model\u001b[0m\u001b[0;34m.\u001b[0m\u001b[0mfit\u001b[0m\u001b[0;34m(\u001b[0m\u001b[0mx_train\u001b[0m\u001b[0;34m[\u001b[0m\u001b[0mMODELING_FEATURES\u001b[0m\u001b[0;34m]\u001b[0m\u001b[0;34m,\u001b[0m \u001b[0my_train\u001b[0m\u001b[0;34m)\u001b[0m\u001b[0;34m\u001b[0m\u001b[0;34m\u001b[0m\u001b[0m\n",
      "\u001b[0;31mNameError\u001b[0m: name 'LogisticRegression' is not defined"
     ]
    }
   ],
   "source": [
    "lg_model = LogisticRegression()\n",
    "lg_model.fit(x_train[MODELING_FEATURES], y_train)"
   ]
  },
  {
   "cell_type": "markdown",
   "metadata": {},
   "source": [
    "___"
   ]
  },
  {
   "cell_type": "markdown",
   "metadata": {},
   "source": [
    "### Error Analysis"
   ]
  },
  {
   "cell_type": "code",
   "execution_count": 39,
   "metadata": {},
   "outputs": [
    {
     "data": {
      "text/plain": [
       "LogisticRegression(C=1.0, class_weight=None, dual=False, fit_intercept=True,\n",
       "          intercept_scaling=1, max_iter=100, multi_class='warn',\n",
       "          n_jobs=None, penalty='l2', random_state=None, solver='warn',\n",
       "          tol=0.0001, verbose=0, warm_start=False)"
      ]
     },
     "execution_count": 39,
     "metadata": {},
     "output_type": "execute_result"
    }
   ],
   "source": [
    "lg_model"
   ]
  },
  {
   "cell_type": "code",
   "execution_count": 40,
   "metadata": {},
   "outputs": [],
   "source": [
    "# Predict on test dataset\n",
    "y_pred = lg_model.predict(x_test[MODELING_FEATURES])"
   ]
  },
  {
   "cell_type": "code",
   "execution_count": 41,
   "metadata": {},
   "outputs": [
    {
     "name": "stdout",
     "output_type": "stream",
     "text": [
      "Accuracy: 0.4198943661971831\n"
     ]
    }
   ],
   "source": [
    "# Peformance metrics\n",
    "print(\"Accuracy:\",metrics.accuracy_score(y_test, y_pred))"
   ]
  },
  {
   "cell_type": "code",
   "execution_count": 44,
   "metadata": {},
   "outputs": [
    {
     "name": "stdout",
     "output_type": "stream",
     "text": [
      "              precision    recall  f1-score   support\n",
      "\n",
      "    Negative       0.00      0.00      0.00       161\n",
      "     Neutral       0.48      0.13      0.21       516\n",
      "    Positive       0.41      0.89      0.56       459\n",
      "\n",
      "   micro avg       0.42      0.42      0.42      1136\n",
      "   macro avg       0.30      0.34      0.26      1136\n",
      "weighted avg       0.39      0.42      0.32      1136\n",
      "\n"
     ]
    },
    {
     "name": "stderr",
     "output_type": "stream",
     "text": [
      "C:\\Users\\hamsh\\Anaconda3\\lib\\site-packages\\sklearn\\metrics\\classification.py:1143: UndefinedMetricWarning: Precision and F-score are ill-defined and being set to 0.0 in labels with no predicted samples.\n",
      "  'precision', 'predicted', average, warn_for)\n",
      "C:\\Users\\hamsh\\Anaconda3\\lib\\site-packages\\sklearn\\metrics\\classification.py:1143: UndefinedMetricWarning: Precision and F-score are ill-defined and being set to 0.0 in labels with no predicted samples.\n",
      "  'precision', 'predicted', average, warn_for)\n",
      "C:\\Users\\hamsh\\Anaconda3\\lib\\site-packages\\sklearn\\metrics\\classification.py:1143: UndefinedMetricWarning: Precision and F-score are ill-defined and being set to 0.0 in labels with no predicted samples.\n",
      "  'precision', 'predicted', average, warn_for)\n"
     ]
    }
   ],
   "source": [
    "print(metrics.classification_report(y_test, lg_model.predict(x_test[MODELING_FEATURES])))"
   ]
  },
  {
   "cell_type": "markdown",
   "metadata": {},
   "source": [
    "#### Feature Importance"
   ]
  },
  {
   "cell_type": "code",
   "execution_count": 42,
   "metadata": {},
   "outputs": [
    {
     "data": {
      "text/html": [
       "<div>\n",
       "<style scoped>\n",
       "    .dataframe tbody tr th:only-of-type {\n",
       "        vertical-align: middle;\n",
       "    }\n",
       "\n",
       "    .dataframe tbody tr th {\n",
       "        vertical-align: top;\n",
       "    }\n",
       "\n",
       "    .dataframe thead th {\n",
       "        text-align: right;\n",
       "    }\n",
       "</style>\n",
       "<table border=\"1\" class=\"dataframe\">\n",
       "  <thead>\n",
       "    <tr style=\"text-align: right;\">\n",
       "      <th></th>\n",
       "      <th>feature</th>\n",
       "      <th>feature_importance</th>\n",
       "    </tr>\n",
       "  </thead>\n",
       "  <tbody>\n",
       "    <tr>\n",
       "      <th>82</th>\n",
       "      <td>is_retweet_False</td>\n",
       "      <td>3.171878e-01</td>\n",
       "    </tr>\n",
       "    <tr>\n",
       "      <th>80</th>\n",
       "      <td>user_verified_False</td>\n",
       "      <td>2.920024e-01</td>\n",
       "    </tr>\n",
       "    <tr>\n",
       "      <th>62</th>\n",
       "      <td>source_Twitter for Android</td>\n",
       "      <td>7.625968e-02</td>\n",
       "    </tr>\n",
       "    <tr>\n",
       "      <th>59</th>\n",
       "      <td>source_Twitter Web App</td>\n",
       "      <td>6.780480e-02</td>\n",
       "    </tr>\n",
       "    <tr>\n",
       "      <th>65</th>\n",
       "      <td>source_Twitter for iPhone</td>\n",
       "      <td>5.750852e-02</td>\n",
       "    </tr>\n",
       "    <tr>\n",
       "      <th>68</th>\n",
       "      <td>source_VaxBlr</td>\n",
       "      <td>4.797531e-02</td>\n",
       "    </tr>\n",
       "    <tr>\n",
       "      <th>81</th>\n",
       "      <td>user_verified_True</td>\n",
       "      <td>2.518541e-02</td>\n",
       "    </tr>\n",
       "    <tr>\n",
       "      <th>39</th>\n",
       "      <td>source_Revive Social App</td>\n",
       "      <td>2.205498e-02</td>\n",
       "    </tr>\n",
       "    <tr>\n",
       "      <th>19</th>\n",
       "      <td>source_Hootsuite Inc.</td>\n",
       "      <td>1.291590e-02</td>\n",
       "    </tr>\n",
       "    <tr>\n",
       "      <th>54</th>\n",
       "      <td>source_TweetDeck</td>\n",
       "      <td>9.781095e-03</td>\n",
       "    </tr>\n",
       "    <tr>\n",
       "      <th>50</th>\n",
       "      <td>source_Sprout Social</td>\n",
       "      <td>3.903593e-03</td>\n",
       "    </tr>\n",
       "    <tr>\n",
       "      <th>4</th>\n",
       "      <td>source_Buffer</td>\n",
       "      <td>3.888944e-03</td>\n",
       "    </tr>\n",
       "    <tr>\n",
       "      <th>64</th>\n",
       "      <td>source_Twitter for iPad</td>\n",
       "      <td>3.558696e-03</td>\n",
       "    </tr>\n",
       "    <tr>\n",
       "      <th>22</th>\n",
       "      <td>source_Ireland Vaccine Progress</td>\n",
       "      <td>1.805065e-03</td>\n",
       "    </tr>\n",
       "    <tr>\n",
       "      <th>3</th>\n",
       "      <td>source_Blog2Social APP</td>\n",
       "      <td>1.034666e-03</td>\n",
       "    </tr>\n",
       "    <tr>\n",
       "      <th>61</th>\n",
       "      <td>source_Twitter for Advertisers.</td>\n",
       "      <td>9.100994e-04</td>\n",
       "    </tr>\n",
       "    <tr>\n",
       "      <th>21</th>\n",
       "      <td>source_Instagram</td>\n",
       "      <td>9.074771e-04</td>\n",
       "    </tr>\n",
       "    <tr>\n",
       "      <th>71</th>\n",
       "      <td>source_Zoho Social</td>\n",
       "      <td>6.892179e-04</td>\n",
       "    </tr>\n",
       "    <tr>\n",
       "      <th>75</th>\n",
       "      <td>source_recurpost.com</td>\n",
       "      <td>6.234286e-04</td>\n",
       "    </tr>\n",
       "    <tr>\n",
       "      <th>18</th>\n",
       "      <td>source_Hocalwire Social Share</td>\n",
       "      <td>6.106714e-04</td>\n",
       "    </tr>\n",
       "    <tr>\n",
       "      <th>79</th>\n",
       "      <td>source_vaccinebotuk</td>\n",
       "      <td>6.063157e-04</td>\n",
       "    </tr>\n",
       "    <tr>\n",
       "      <th>33</th>\n",
       "      <td>source_OzVaxProgress</td>\n",
       "      <td>6.062704e-04</td>\n",
       "    </tr>\n",
       "    <tr>\n",
       "      <th>78</th>\n",
       "      <td>source_vaccinate chicago</td>\n",
       "      <td>6.021757e-04</td>\n",
       "    </tr>\n",
       "    <tr>\n",
       "      <th>72</th>\n",
       "      <td>source_dlvr.it</td>\n",
       "      <td>5.647519e-04</td>\n",
       "    </tr>\n",
       "    <tr>\n",
       "      <th>43</th>\n",
       "      <td>source_Sendible</td>\n",
       "      <td>4.913172e-04</td>\n",
       "    </tr>\n",
       "    <tr>\n",
       "      <th>2</th>\n",
       "      <td>source_Ai News Room</td>\n",
       "      <td>4.545127e-04</td>\n",
       "    </tr>\n",
       "    <tr>\n",
       "      <th>25</th>\n",
       "      <td>source_Loomly</td>\n",
       "      <td>4.399005e-04</td>\n",
       "    </tr>\n",
       "    <tr>\n",
       "      <th>31</th>\n",
       "      <td>source_Orlo</td>\n",
       "      <td>4.345779e-04</td>\n",
       "    </tr>\n",
       "    <tr>\n",
       "      <th>70</th>\n",
       "      <td>source_WordPress.com</td>\n",
       "      <td>4.053351e-04</td>\n",
       "    </tr>\n",
       "    <tr>\n",
       "      <th>1</th>\n",
       "      <td>source_Agorapulse app</td>\n",
       "      <td>3.826344e-04</td>\n",
       "    </tr>\n",
       "    <tr>\n",
       "      <th>...</th>\n",
       "      <td>...</td>\n",
       "      <td>...</td>\n",
       "    </tr>\n",
       "    <tr>\n",
       "      <th>5</th>\n",
       "      <td>source_Canada Vaccine Tracker</td>\n",
       "      <td>1.515002e-04</td>\n",
       "    </tr>\n",
       "    <tr>\n",
       "      <th>40</th>\n",
       "      <td>source_SOCi - Simplifying Social Media</td>\n",
       "      <td>1.501703e-04</td>\n",
       "    </tr>\n",
       "    <tr>\n",
       "      <th>56</th>\n",
       "      <td>source_Twitter Ads</td>\n",
       "      <td>1.489125e-04</td>\n",
       "    </tr>\n",
       "    <tr>\n",
       "      <th>41</th>\n",
       "      <td>source_SPTK: DVBergen</td>\n",
       "      <td>1.486876e-04</td>\n",
       "    </tr>\n",
       "    <tr>\n",
       "      <th>32</th>\n",
       "      <td>source_Oyeyeah</td>\n",
       "      <td>1.454588e-04</td>\n",
       "    </tr>\n",
       "    <tr>\n",
       "      <th>12</th>\n",
       "      <td>source_Daily Voice Sync</td>\n",
       "      <td>1.448262e-04</td>\n",
       "    </tr>\n",
       "    <tr>\n",
       "      <th>17</th>\n",
       "      <td>source_HeyOrca</td>\n",
       "      <td>1.446878e-04</td>\n",
       "    </tr>\n",
       "    <tr>\n",
       "      <th>10</th>\n",
       "      <td>source_CrowdControlHQ</td>\n",
       "      <td>1.446269e-04</td>\n",
       "    </tr>\n",
       "    <tr>\n",
       "      <th>47</th>\n",
       "      <td>source_Spreaker</td>\n",
       "      <td>1.430174e-04</td>\n",
       "    </tr>\n",
       "    <tr>\n",
       "      <th>30</th>\n",
       "      <td>source_Oktopost</td>\n",
       "      <td>1.420301e-04</td>\n",
       "    </tr>\n",
       "    <tr>\n",
       "      <th>34</th>\n",
       "      <td>source_Paper.li</td>\n",
       "      <td>1.416448e-04</td>\n",
       "    </tr>\n",
       "    <tr>\n",
       "      <th>49</th>\n",
       "      <td>source_Sprinklr Publishing</td>\n",
       "      <td>1.402656e-04</td>\n",
       "    </tr>\n",
       "    <tr>\n",
       "      <th>23</th>\n",
       "      <td>source_Khoros Publishing App</td>\n",
       "      <td>1.399684e-04</td>\n",
       "    </tr>\n",
       "    <tr>\n",
       "      <th>35</th>\n",
       "      <td>source_PromoRepublic</td>\n",
       "      <td>1.395849e-04</td>\n",
       "    </tr>\n",
       "    <tr>\n",
       "      <th>51</th>\n",
       "      <td>source_The Healthsite</td>\n",
       "      <td>1.393560e-04</td>\n",
       "    </tr>\n",
       "    <tr>\n",
       "      <th>60</th>\n",
       "      <td>source_Twitter for Advertisers</td>\n",
       "      <td>1.385820e-04</td>\n",
       "    </tr>\n",
       "    <tr>\n",
       "      <th>36</th>\n",
       "      <td>source_Publer.io</td>\n",
       "      <td>1.212122e-04</td>\n",
       "    </tr>\n",
       "    <tr>\n",
       "      <th>58</th>\n",
       "      <td>source_Twitter Media Studio - LiveCut</td>\n",
       "      <td>1.118652e-04</td>\n",
       "    </tr>\n",
       "    <tr>\n",
       "      <th>24</th>\n",
       "      <td>source_LaterMedia</td>\n",
       "      <td>1.054723e-04</td>\n",
       "    </tr>\n",
       "    <tr>\n",
       "      <th>76</th>\n",
       "      <td>source_robly_marketing</td>\n",
       "      <td>9.625098e-05</td>\n",
       "    </tr>\n",
       "    <tr>\n",
       "      <th>52</th>\n",
       "      <td>source_The Social Jukebox</td>\n",
       "      <td>7.802626e-05</td>\n",
       "    </tr>\n",
       "    <tr>\n",
       "      <th>42</th>\n",
       "      <td>source_Salesforce - Social Studio</td>\n",
       "      <td>6.545679e-05</td>\n",
       "    </tr>\n",
       "    <tr>\n",
       "      <th>74</th>\n",
       "      <td>source_pluspora</td>\n",
       "      <td>5.664204e-05</td>\n",
       "    </tr>\n",
       "    <tr>\n",
       "      <th>38</th>\n",
       "      <td>source_RetweetsMumbaiOne</td>\n",
       "      <td>4.948959e-05</td>\n",
       "    </tr>\n",
       "    <tr>\n",
       "      <th>84</th>\n",
       "      <td>user_friends</td>\n",
       "      <td>2.808158e-05</td>\n",
       "    </tr>\n",
       "    <tr>\n",
       "      <th>53</th>\n",
       "      <td>source_Tweet Suite</td>\n",
       "      <td>1.761913e-05</td>\n",
       "    </tr>\n",
       "    <tr>\n",
       "      <th>85</th>\n",
       "      <td>user_favourites</td>\n",
       "      <td>8.413742e-06</td>\n",
       "    </tr>\n",
       "    <tr>\n",
       "      <th>83</th>\n",
       "      <td>user_followers</td>\n",
       "      <td>1.055186e-07</td>\n",
       "    </tr>\n",
       "    <tr>\n",
       "      <th>44</th>\n",
       "      <td>source_Sharpspring</td>\n",
       "      <td>0.000000e+00</td>\n",
       "    </tr>\n",
       "    <tr>\n",
       "      <th>28</th>\n",
       "      <td>source_National Herald</td>\n",
       "      <td>0.000000e+00</td>\n",
       "    </tr>\n",
       "  </tbody>\n",
       "</table>\n",
       "<p>86 rows × 2 columns</p>\n",
       "</div>"
      ],
      "text/plain": [
       "                                   feature  feature_importance\n",
       "82                        is_retweet_False        3.171878e-01\n",
       "80                     user_verified_False        2.920024e-01\n",
       "62              source_Twitter for Android        7.625968e-02\n",
       "59                  source_Twitter Web App        6.780480e-02\n",
       "65               source_Twitter for iPhone        5.750852e-02\n",
       "68                           source_VaxBlr        4.797531e-02\n",
       "81                      user_verified_True        2.518541e-02\n",
       "39                source_Revive Social App        2.205498e-02\n",
       "19                   source_Hootsuite Inc.        1.291590e-02\n",
       "54                        source_TweetDeck        9.781095e-03\n",
       "50                    source_Sprout Social        3.903593e-03\n",
       "4                            source_Buffer        3.888944e-03\n",
       "64                 source_Twitter for iPad        3.558696e-03\n",
       "22         source_Ireland Vaccine Progress        1.805065e-03\n",
       "3                   source_Blog2Social APP        1.034666e-03\n",
       "61         source_Twitter for Advertisers.        9.100994e-04\n",
       "21                        source_Instagram        9.074771e-04\n",
       "71                      source_Zoho Social        6.892179e-04\n",
       "75                    source_recurpost.com        6.234286e-04\n",
       "18           source_Hocalwire Social Share        6.106714e-04\n",
       "79                     source_vaccinebotuk        6.063157e-04\n",
       "33                    source_OzVaxProgress        6.062704e-04\n",
       "78                source_vaccinate chicago        6.021757e-04\n",
       "72                          source_dlvr.it        5.647519e-04\n",
       "43                         source_Sendible        4.913172e-04\n",
       "2                      source_Ai News Room        4.545127e-04\n",
       "25                           source_Loomly        4.399005e-04\n",
       "31                             source_Orlo        4.345779e-04\n",
       "70                    source_WordPress.com        4.053351e-04\n",
       "1                    source_Agorapulse app        3.826344e-04\n",
       "..                                     ...                 ...\n",
       "5            source_Canada Vaccine Tracker        1.515002e-04\n",
       "40  source_SOCi - Simplifying Social Media        1.501703e-04\n",
       "56                      source_Twitter Ads        1.489125e-04\n",
       "41                   source_SPTK: DVBergen        1.486876e-04\n",
       "32                          source_Oyeyeah        1.454588e-04\n",
       "12                 source_Daily Voice Sync        1.448262e-04\n",
       "17                          source_HeyOrca        1.446878e-04\n",
       "10                   source_CrowdControlHQ        1.446269e-04\n",
       "47                         source_Spreaker        1.430174e-04\n",
       "30                         source_Oktopost        1.420301e-04\n",
       "34                         source_Paper.li        1.416448e-04\n",
       "49              source_Sprinklr Publishing        1.402656e-04\n",
       "23            source_Khoros Publishing App        1.399684e-04\n",
       "35                    source_PromoRepublic        1.395849e-04\n",
       "51                   source_The Healthsite        1.393560e-04\n",
       "60          source_Twitter for Advertisers        1.385820e-04\n",
       "36                        source_Publer.io        1.212122e-04\n",
       "58   source_Twitter Media Studio - LiveCut        1.118652e-04\n",
       "24                       source_LaterMedia        1.054723e-04\n",
       "76                  source_robly_marketing        9.625098e-05\n",
       "52               source_The Social Jukebox        7.802626e-05\n",
       "42       source_Salesforce - Social Studio        6.545679e-05\n",
       "74                         source_pluspora        5.664204e-05\n",
       "38                source_RetweetsMumbaiOne        4.948959e-05\n",
       "84                            user_friends        2.808158e-05\n",
       "53                      source_Tweet Suite        1.761913e-05\n",
       "85                         user_favourites        8.413742e-06\n",
       "83                          user_followers        1.055186e-07\n",
       "44                      source_Sharpspring        0.000000e+00\n",
       "28                  source_National Herald        0.000000e+00\n",
       "\n",
       "[86 rows x 2 columns]"
      ]
     },
     "execution_count": 42,
     "metadata": {},
     "output_type": "execute_result"
    }
   ],
   "source": [
    "feature_importance=pd.DataFrame({'feature':list(x_test[MODELING_FEATURES].columns),'feature_importance':[abs(i) for i in lg_model.coef_[0]]})\n",
    "feature_importance.sort_values('feature_importance',ascending=False)"
   ]
  },
  {
   "cell_type": "code",
   "execution_count": null,
   "metadata": {},
   "outputs": [],
   "source": []
  }
 ],
 "metadata": {
  "kernelspec": {
   "display_name": "Python 3",
   "language": "python",
   "name": "python3"
  },
  "language_info": {
   "codemirror_mode": {
    "name": "ipython",
    "version": 3
   },
   "file_extension": ".py",
   "mimetype": "text/x-python",
   "name": "python",
   "nbconvert_exporter": "python",
   "pygments_lexer": "ipython3",
   "version": "3.8.5"
  }
 },
 "nbformat": 4,
 "nbformat_minor": 2
}
