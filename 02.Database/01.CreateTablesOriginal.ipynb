{
 "cells": [
  {
   "cell_type": "markdown",
   "id": "c213ba9b",
   "metadata": {},
   "source": [
    "##### https://www.analyticsvidhya.com/blog/2020/08/analysing-streaming-tweets-with-python-and-postgresql/#h2_9"
   ]
  },
  {
   "cell_type": "code",
   "execution_count": 5,
   "id": "3f83d89c",
   "metadata": {},
   "outputs": [],
   "source": [
    "# Table creation\n",
    "commands = (# Table 1\n",
    "            '''Create Table TwitterUser(User_Id BIGINT PRIMARY KEY, User_Name TEXT);''',\n",
    "            # Table 2\n",
    "            '''Create Table TwitterTweet(Tweet_Id BIGINT PRIMARY KEY,\n",
    "                                         User_Id BIGINT,\n",
    "                                         Tweet TEXT,\n",
    "                                         Retweet_Count INT,\n",
    "                                         CONSTRAINT fk_user\n",
    "                                             FOREIGN KEY(User_Id)\n",
    "                                                 REFERENCES TwitterUser(User_Id));''',\n",
    "            # Table 3\n",
    "            '''Create Table TwitterEntity(Id SERIAL PRIMARY KEY,\n",
    "                                         Tweet_Id BIGINT,\n",
    "                                         Hashtag TEXT,\n",
    "                                         CONSTRAINT fk_user\n",
    "                                             FOREIGN KEY(Tweet_Id)\n",
    "                                                 REFERENCES TwitterTweet(Tweet_Id));''')"
   ]
  },
  {
   "cell_type": "code",
   "execution_count": 6,
   "id": "e3c53c50",
   "metadata": {},
   "outputs": [],
   "source": [
    "import psycopg2\n",
    "import config\n",
    "\n",
    "# Connection to database server\n",
    "conn = psycopg2.connect(host=\"localhost\",database=\"TwitterDB\",port=5432,user='postgres',password=config.db_password)"
   ]
  },
  {
   "cell_type": "code",
   "execution_count": 8,
   "id": "00a16caa",
   "metadata": {},
   "outputs": [],
   "source": [
    "# Create cursor to execute SQL commands\n",
    "cur = conn.cursor()\n",
    "\n",
    "# Execute SQL commands\n",
    "for command in commands:\n",
    "    # Create tables\n",
    "    cur.execute(command)\n",
    "\n",
    "# Close communication with server\n",
    "conn.commit()\n",
    "cur.close()\n",
    "conn.close()"
   ]
  },
  {
   "cell_type": "code",
   "execution_count": null,
   "id": "8b8edcfd",
   "metadata": {},
   "outputs": [],
   "source": []
  }
 ],
 "metadata": {
  "kernelspec": {
   "display_name": "mlenv",
   "language": "python",
   "name": "mlenv"
  },
  "language_info": {
   "codemirror_mode": {
    "name": "ipython",
    "version": 3
   },
   "file_extension": ".py",
   "mimetype": "text/x-python",
   "name": "python",
   "nbconvert_exporter": "python",
   "pygments_lexer": "ipython3",
   "version": "3.8.8"
  }
 },
 "nbformat": 4,
 "nbformat_minor": 5
}
