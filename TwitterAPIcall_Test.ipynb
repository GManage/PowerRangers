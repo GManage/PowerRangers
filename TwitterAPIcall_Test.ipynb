{
 "cells": [
  {
   "cell_type": "code",
   "execution_count": 1,
   "metadata": {
    "executionInfo": {
     "elapsed": 113,
     "status": "ok",
     "timestamp": 1629992416726,
     "user": {
      "displayName": "John Li",
      "photoUrl": "",
      "userId": "04326690582251899735"
     },
     "user_tz": 240
    },
    "id": "h6XoOsokGy-2"
   },
   "outputs": [],
   "source": [
    "import requests\n",
    "import os\n",
    "import json\n",
    "import tweepy\n",
    "from config import BEARER_TOKEN"
   ]
  },
  {
   "cell_type": "code",
   "execution_count": 2,
   "metadata": {},
   "outputs": [],
   "source": [
    "# export 'BEARER_TOKEN'='<your_bearer_token>'\n",
    "os.environ['bearer_token'] = BEARER_TOKEN\n",
    "bearer_token = os.environ.get('bearer_token')"
   ]
  },
  {
   "cell_type": "code",
   "execution_count": 3,
   "metadata": {
    "executionInfo": {
     "elapsed": 117,
     "status": "ok",
     "timestamp": 1629992457572,
     "user": {
      "displayName": "John Li",
      "photoUrl": "",
      "userId": "04326690582251899735"
     },
     "user_tz": 240
    },
    "id": "o-HDMLBLGy-5"
   },
   "outputs": [],
   "source": [
    "search_url = \"https://api.twitter.com/1.1/search/tweets.json?q=%23provaccine OR antivaccine OR covidvaccine&result_type=recent\""
   ]
  },
  {
   "cell_type": "code",
   "execution_count": 4,
   "metadata": {
    "executionInfo": {
     "elapsed": 2,
     "status": "ok",
     "timestamp": 1629992458734,
     "user": {
      "displayName": "John Li",
      "photoUrl": "",
      "userId": "04326690582251899735"
     },
     "user_tz": 240
    },
    "id": "l1iMOZ7-Gy-6"
   },
   "outputs": [],
   "source": [
    "# expansions,tweet.fields,media.fields,poll.fields,place.fields,user.fields\n",
    "query_params = {'query': '(from:twitterdev -is:retweet) OR #twitterdev','tweet.fields': 'author_id'}\n"
   ]
  },
  {
   "cell_type": "code",
   "execution_count": 5,
   "metadata": {
    "executionInfo": {
     "elapsed": 110,
     "status": "ok",
     "timestamp": 1629992460774,
     "user": {
      "displayName": "John Li",
      "photoUrl": "",
      "userId": "04326690582251899735"
     },
     "user_tz": 240
    },
    "id": "cbvmO40dGy-6"
   },
   "outputs": [],
   "source": [
    "\n",
    "def bearer_oauth(r):\n",
    "    \"\"\"\n",
    "    Method required by bearer token authentication.\n",
    "    \"\"\"\n",
    "\n",
    "    r.headers[\"Authorization\"] = f\"Bearer {bearer_token}\"\n",
    "    r.headers[\"User-Agent\"] = \"v2RecentSearchPython\"\n",
    "    return r\n"
   ]
  },
  {
   "cell_type": "code",
   "execution_count": 6,
   "metadata": {},
   "outputs": [
    {
     "ename": "AttributeError",
     "evalue": "module 'tweepy' has no attribute 'StreamListener'",
     "output_type": "error",
     "traceback": [
      "\u001b[1;31m---------------------------------------------------------------------------\u001b[0m",
      "\u001b[1;31mAttributeError\u001b[0m                            Traceback (most recent call last)",
      "\u001b[1;32m<ipython-input-6-990926a9a596>\u001b[0m in \u001b[0;36m<module>\u001b[1;34m\u001b[0m\n\u001b[1;32m----> 1\u001b[1;33m \u001b[1;32mclass\u001b[0m \u001b[0mMyStreamListener\u001b[0m\u001b[1;33m(\u001b[0m\u001b[0mtweepy\u001b[0m\u001b[1;33m.\u001b[0m\u001b[0mStreamListener\u001b[0m\u001b[1;33m)\u001b[0m\u001b[1;33m:\u001b[0m\u001b[1;33m\u001b[0m\u001b[1;33m\u001b[0m\u001b[0m\n\u001b[0m\u001b[0;32m      2\u001b[0m \u001b[1;33m\u001b[0m\u001b[0m\n\u001b[0;32m      3\u001b[0m     \u001b[1;32mdef\u001b[0m \u001b[0m__init__\u001b[0m\u001b[1;33m(\u001b[0m\u001b[0mself\u001b[0m\u001b[1;33m,\u001b[0m \u001b[0mtime_limit\u001b[0m\u001b[1;33m=\u001b[0m\u001b[1;36m300\u001b[0m\u001b[1;33m)\u001b[0m\u001b[1;33m:\u001b[0m\u001b[1;33m\u001b[0m\u001b[1;33m\u001b[0m\u001b[0m\n\u001b[0;32m      4\u001b[0m         \u001b[0mself\u001b[0m\u001b[1;33m.\u001b[0m\u001b[0mstart_time\u001b[0m \u001b[1;33m=\u001b[0m \u001b[0mtime\u001b[0m\u001b[1;33m.\u001b[0m\u001b[0mtime\u001b[0m\u001b[1;33m(\u001b[0m\u001b[1;33m)\u001b[0m\u001b[1;33m\u001b[0m\u001b[1;33m\u001b[0m\u001b[0m\n\u001b[0;32m      5\u001b[0m         \u001b[0mself\u001b[0m\u001b[1;33m.\u001b[0m\u001b[0mlimit\u001b[0m \u001b[1;33m=\u001b[0m \u001b[0mtime_limit\u001b[0m\u001b[1;33m\u001b[0m\u001b[1;33m\u001b[0m\u001b[0m\n",
      "\u001b[1;31mAttributeError\u001b[0m: module 'tweepy' has no attribute 'StreamListener'"
     ]
    }
   ],
   "source": [
    "class MyStreamListener(tweepy.StreamListener):\n",
    "    \n",
    "    def __init__(self, time_limit=300):\n",
    "        self.start_time = time.time()\n",
    "        self.limit = time_limit\n",
    "        super(MyStreamListener, self).__init__()\n",
    "    \n",
    "    def on_connect(self):\n",
    "        print(\"Connected to Twitter API.\")\n",
    "        \n",
    "    def on_status(self, status):\n",
    "        \n",
    "        \n",
    "        # Tweet ID\n",
    "        tweet_id = status.id\n",
    "        \n",
    "        # User ID\n",
    "        user_id = status.user.id\n",
    "        # Username\n",
    "        username = status.user.name\n",
    "        \n",
    "        \n",
    "        # Tweet\n",
    "        if status.truncated == True:\n",
    "            tweet = status.extended_tweet['full_text']\n",
    "            hashtags = status.extended_tweet['entities']['hashtags']\n",
    "        else:\n",
    "            tweet = status.text\n",
    "            hashtags = status.entities['hashtags']\n",
    "        \n",
    "        # Read hastags\n",
    "        hashtags = read_hashtags(hashtags)            \n",
    "        \n",
    "        # Retweet count\n",
    "        retweet_count = status.retweet_count\n",
    "        # Language\n",
    "        lang = status.lang\n",
    "        # Geograpic\n",
    "        geo = status.geo_coordinates\n",
    "    # If tweet is not a retweet and tweet is in English\n",
    "        if not hasattr(status, \"retweeted_status\") and lang==\"en\":\n",
    "            # Connect to database\n",
    "            dbConnect(user_id, username, tweet_id, tweet, retweet_count, hashtags)\n",
    "            \n",
    "        if (time.time() - self.start_time) > self.limit:\n",
    "            \n",
    "            print(time.time(), self.start_time, self.limit)\n",
    "            return False\n",
    "            \n",
    "    def on_error(self, status_code):\n",
    "        if status_code == 420:\n",
    "            # Returning False in on_data disconnects the stream\n",
    "            return False"
   ]
  },
  {
   "cell_type": "code",
   "execution_count": null,
   "metadata": {
    "executionInfo": {
     "elapsed": 114,
     "status": "ok",
     "timestamp": 1629992464900,
     "user": {
      "displayName": "John Li",
      "photoUrl": "",
      "userId": "04326690582251899735"
     },
     "user_tz": 240
    },
    "id": "zUfIm0aeGy-7"
   },
   "outputs": [],
   "source": [
    "def connect_to_endpoint(url, params):\n",
    "    response = requests.get(url, auth=bearer_oauth, params=params)\n",
    "    print(response.status_code)\n",
    "    if response.status_code != 200:\n",
    "        raise Exception(response.status_code, response.text)\n",
    "    return response.json()\n"
   ]
  },
  {
   "cell_type": "code",
   "execution_count": null,
   "metadata": {},
   "outputs": [],
   "source": []
  },
  {
   "cell_type": "code",
   "execution_count": null,
   "metadata": {
    "executionInfo": {
     "elapsed": 136,
     "status": "ok",
     "timestamp": 1629992466879,
     "user": {
      "displayName": "John Li",
      "photoUrl": "",
      "userId": "04326690582251899735"
     },
     "user_tz": 240
    },
    "id": "Ny7ZzULbGy-7"
   },
   "outputs": [],
   "source": [
    "def main():\n",
    "    json_response = connect_to_endpoint(search_url, query_params)\n",
    "    print(json.dumps(json_response, indent=4, sort_keys=True))\n"
   ]
  },
  {
   "cell_type": "code",
   "execution_count": null,
   "metadata": {
    "colab": {
     "base_uri": "https://localhost:8080/"
    },
    "executionInfo": {
     "elapsed": 324,
     "status": "ok",
     "timestamp": 1629992470784,
     "user": {
      "displayName": "John Li",
      "photoUrl": "",
      "userId": "04326690582251899735"
     },
     "user_tz": 240
    },
    "id": "n7dddmytGy-8",
    "outputId": "891bd780-a166-45df-9ffc-90ff3462eca9"
   },
   "outputs": [],
   "source": [
    "if __name__ == \"__main__\":\n",
    "    tweet_json = main()\n",
    "    print(tweet_json)"
   ]
  },
  {
   "cell_type": "code",
   "execution_count": null,
   "metadata": {
    "id": "5eY7hK_iGy-9"
   },
   "outputs": [],
   "source": []
  },
  {
   "cell_type": "code",
   "execution_count": null,
   "metadata": {},
   "outputs": [],
   "source": []
  }
 ],
 "metadata": {
  "colab": {
   "collapsed_sections": [],
   "name": "TwitterAPIcall_Test.ipynb",
   "provenance": []
  },
  "kernelspec": {
   "display_name": "mlenv",
   "language": "python",
   "name": "mlenv"
  },
  "language_info": {
   "codemirror_mode": {
    "name": "ipython",
    "version": 3
   },
   "file_extension": ".py",
   "mimetype": "text/x-python",
   "name": "python",
   "nbconvert_exporter": "python",
   "pygments_lexer": "ipython3",
   "version": "3.8.8"
  }
 },
 "nbformat": 4,
 "nbformat_minor": 1
}
