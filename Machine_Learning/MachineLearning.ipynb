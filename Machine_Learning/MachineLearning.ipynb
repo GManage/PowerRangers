{
 "cells": [
  {
   "cell_type": "markdown",
   "id": "2c531c5e",
   "metadata": {},
   "source": [
    "\n"
   ]
  },
  {
   "cell_type": "code",
   "execution_count": 1,
   "id": "55e34066",
   "metadata": {},
   "outputs": [],
   "source": [
    "import pandas as pd"
   ]
  },
  {
   "cell_type": "code",
   "execution_count": 2,
   "id": "7bfaf5f2",
   "metadata": {},
   "outputs": [],
   "source": [
    "data = pd.read_csv('SampleTwitterData.csv')"
   ]
  },
  {
   "cell_type": "code",
   "execution_count": null,
   "id": "3d949d47",
   "metadata": {},
   "outputs": [],
   "source": []
  }
 ],
 "metadata": {
  "kernelspec": {
   "display_name": "mlenv",
   "language": "python",
   "name": "mlenv"
  },
  "language_info": {
   "codemirror_mode": {
    "name": "ipython",
    "version": 3
   },
   "file_extension": ".py",
   "mimetype": "text/x-python",
   "name": "python",
   "nbconvert_exporter": "python",
   "pygments_lexer": "ipython3",
   "version": "3.8.8"
  }
 },
 "nbformat": 4,
 "nbformat_minor": 5
}
